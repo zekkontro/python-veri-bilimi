{
 "cells": [
  {
   "cell_type": "markdown",
   "id": "capable-approval",
   "metadata": {},
   "source": [
    "# Pandas"
   ]
  },
  {
   "cell_type": "markdown",
   "id": "creative-action",
   "metadata": {},
   "source": [
    "## Series"
   ]
  },
  {
   "cell_type": "code",
   "execution_count": 3,
   "id": "further-parallel",
   "metadata": {},
   "outputs": [],
   "source": [
    "import pandas as pn\n",
    "import numpy as np"
   ]
  },
  {
   "cell_type": "code",
   "execution_count": 7,
   "id": "stupid-trinidad",
   "metadata": {},
   "outputs": [],
   "source": [
    "myDict = {\"Berat\" : 17, \"Osman\": 10}"
   ]
  },
  {
   "cell_type": "code",
   "execution_count": 8,
   "id": "incorporated-mattress",
   "metadata": {},
   "outputs": [
    {
     "data": {
      "text/plain": [
       "Berat    17\n",
       "Osman    10\n",
       "dtype: int64"
      ]
     },
     "execution_count": 8,
     "metadata": {},
     "output_type": "execute_result"
    }
   ],
   "source": [
    "pn.Series(myDict)"
   ]
  },
  {
   "cell_type": "code",
   "execution_count": 9,
   "id": "united-sector",
   "metadata": {},
   "outputs": [],
   "source": [
    "myAgeList = [17,10]"
   ]
  },
  {
   "cell_type": "code",
   "execution_count": 10,
   "id": "suburban-federal",
   "metadata": {},
   "outputs": [],
   "source": [
    "myNameList = [\"Berat\", \"Osman\"]"
   ]
  },
  {
   "cell_type": "code",
   "execution_count": 21,
   "id": "olympic-entity",
   "metadata": {},
   "outputs": [
    {
     "data": {
      "text/plain": [
       "50    Berat\n",
       "72    Osman\n",
       "dtype: object"
      ]
     },
     "execution_count": 21,
     "metadata": {},
     "output_type": "execute_result"
    }
   ],
   "source": [
    "pn.Series(myNameList, np.random.randint(0, 100, len(myNameList)))"
   ]
  },
  {
   "cell_type": "code",
   "execution_count": 22,
   "id": "protected-paper",
   "metadata": {},
   "outputs": [],
   "source": [
    "yarisma1 = pn.Series(np.random.randint(0, 100, len(myNameList)), myNameList)"
   ]
  },
  {
   "cell_type": "code",
   "execution_count": 25,
   "id": "center-twenty",
   "metadata": {},
   "outputs": [
    {
     "data": {
      "text/plain": [
       "Berat    73\n",
       "Osman    72\n",
       "dtype: int32"
      ]
     },
     "execution_count": 25,
     "metadata": {},
     "output_type": "execute_result"
    }
   ],
   "source": [
    "yarisma1"
   ]
  },
  {
   "cell_type": "code",
   "execution_count": 26,
   "id": "handled-bookmark",
   "metadata": {},
   "outputs": [
    {
     "name": "stdout",
     "output_type": "stream",
     "text": [
      "Berat    73\n",
      "Osman    72\n",
      "dtype: int32\n"
     ]
    }
   ],
   "source": [
    "print(yarisma1)"
   ]
  },
  {
   "cell_type": "code",
   "execution_count": 28,
   "id": "thirty-substance",
   "metadata": {},
   "outputs": [
    {
     "data": {
      "text/plain": [
       "73"
      ]
     },
     "execution_count": 28,
     "metadata": {},
     "output_type": "execute_result"
    }
   ],
   "source": [
    "yarisma1['Berat']"
   ]
  },
  {
   "cell_type": "code",
   "execution_count": 30,
   "id": "colored-regulation",
   "metadata": {},
   "outputs": [],
   "source": [
    "yarisma2 = pn.Series(index=myNameList, data=np.random.randint(0, 100, len(myNameList)))"
   ]
  },
  {
   "cell_type": "code",
   "execution_count": 32,
   "id": "metric-strength",
   "metadata": {},
   "outputs": [
    {
     "data": {
      "text/plain": [
       "Berat    85\n",
       "Osman     9\n",
       "dtype: int32"
      ]
     },
     "execution_count": 32,
     "metadata": {},
     "output_type": "execute_result"
    }
   ],
   "source": [
    "yarisma2"
   ]
  },
  {
   "cell_type": "code",
   "execution_count": 33,
   "id": "wrong-setting",
   "metadata": {},
   "outputs": [
    {
     "data": {
      "text/plain": [
       "Berat    158\n",
       "Osman     81\n",
       "dtype: int32"
      ]
     },
     "execution_count": 33,
     "metadata": {},
     "output_type": "execute_result"
    }
   ],
   "source": [
    "sonuc = yarisma1 + yarisma2\n",
    "sonuc"
   ]
  },
  {
   "cell_type": "code",
   "execution_count": 34,
   "id": "worth-kelly",
   "metadata": {},
   "outputs": [
    {
     "data": {
      "text/plain": [
       "ax     1.0\n",
       "bx    39.0\n",
       "cx     NaN\n",
       "dx     NaN\n",
       "fx     NaN\n",
       "gx     NaN\n",
       "dtype: float64"
      ]
     },
     "execution_count": 34,
     "metadata": {},
     "output_type": "execute_result"
    }
   ],
   "source": [
    "farkliSeries = pn.Series([1, 19, 60, 80], [\"ax\", \"bx\", \"cx\", \"dx\"])\n",
    "farkliSeries2 = pn.Series([0, 20, 40, 300], [\"ax\", \"bx\", \"fx\", \"gx\"])\n",
    "farkliSeries + farkliSeries2"
   ]
  },
  {
   "cell_type": "code",
   "execution_count": null,
   "id": "demanding-binary",
   "metadata": {},
   "outputs": [],
   "source": []
  },
  {
   "cell_type": "markdown",
   "id": "durable-copyright",
   "metadata": {},
   "source": [
    "## DataFrame"
   ]
  },
  {
   "cell_type": "code",
   "execution_count": 4,
   "id": "least-praise",
   "metadata": {},
   "outputs": [],
   "source": [
    "data = np.random.randn(4,3)"
   ]
  },
  {
   "cell_type": "code",
   "execution_count": 5,
   "id": "crude-cartridge",
   "metadata": {
    "tags": []
   },
   "outputs": [],
   "source": [
    "dataFrame = pn.DataFrame(data)"
   ]
  },
  {
   "cell_type": "code",
   "execution_count": 6,
   "id": "actual-punishment",
   "metadata": {},
   "outputs": [
    {
     "data": {
      "text/html": [
       "<div>\n",
       "<style scoped>\n",
       "    .dataframe tbody tr th:only-of-type {\n",
       "        vertical-align: middle;\n",
       "    }\n",
       "\n",
       "    .dataframe tbody tr th {\n",
       "        vertical-align: top;\n",
       "    }\n",
       "\n",
       "    .dataframe thead th {\n",
       "        text-align: right;\n",
       "    }\n",
       "</style>\n",
       "<table border=\"1\" class=\"dataframe\">\n",
       "  <thead>\n",
       "    <tr style=\"text-align: right;\">\n",
       "      <th></th>\n",
       "      <th>0</th>\n",
       "      <th>1</th>\n",
       "      <th>2</th>\n",
       "    </tr>\n",
       "  </thead>\n",
       "  <tbody>\n",
       "    <tr>\n",
       "      <th>0</th>\n",
       "      <td>1.008778</td>\n",
       "      <td>-0.358705</td>\n",
       "      <td>0.927597</td>\n",
       "    </tr>\n",
       "    <tr>\n",
       "      <th>1</th>\n",
       "      <td>1.770948</td>\n",
       "      <td>0.339156</td>\n",
       "      <td>-0.080529</td>\n",
       "    </tr>\n",
       "    <tr>\n",
       "      <th>2</th>\n",
       "      <td>0.647858</td>\n",
       "      <td>1.213184</td>\n",
       "      <td>0.686979</td>\n",
       "    </tr>\n",
       "    <tr>\n",
       "      <th>3</th>\n",
       "      <td>0.681217</td>\n",
       "      <td>0.898573</td>\n",
       "      <td>0.244885</td>\n",
       "    </tr>\n",
       "  </tbody>\n",
       "</table>\n",
       "</div>"
      ],
      "text/plain": [
       "          0         1         2\n",
       "0  1.008778 -0.358705  0.927597\n",
       "1  1.770948  0.339156 -0.080529\n",
       "2  0.647858  1.213184  0.686979\n",
       "3  0.681217  0.898573  0.244885"
      ]
     },
     "execution_count": 6,
     "metadata": {},
     "output_type": "execute_result"
    }
   ],
   "source": [
    "dataFrame"
   ]
  },
  {
   "cell_type": "code",
   "execution_count": 7,
   "id": "extended-stone",
   "metadata": {},
   "outputs": [
    {
     "data": {
      "text/plain": [
       "0    1.008778\n",
       "1    1.770948\n",
       "2    0.647858\n",
       "3    0.681217\n",
       "Name: 0, dtype: float64"
      ]
     },
     "execution_count": 7,
     "metadata": {},
     "output_type": "execute_result"
    }
   ],
   "source": [
    "dataFrame[0]"
   ]
  },
  {
   "cell_type": "code",
   "execution_count": 8,
   "id": "devoted-plastic",
   "metadata": {},
   "outputs": [],
   "source": [
    "newDataFrame = pn.DataFrame(data, index=[\"Berat\", \"Şevval\", \"Hakan\", \"Fazilet\"], columns=[\"Maaş\", \"Yaş\", \"Çalışma Saatleri\"])"
   ]
  },
  {
   "cell_type": "code",
   "execution_count": 9,
   "id": "official-compromise",
   "metadata": {},
   "outputs": [
    {
     "data": {
      "text/html": [
       "<div>\n",
       "<style scoped>\n",
       "    .dataframe tbody tr th:only-of-type {\n",
       "        vertical-align: middle;\n",
       "    }\n",
       "\n",
       "    .dataframe tbody tr th {\n",
       "        vertical-align: top;\n",
       "    }\n",
       "\n",
       "    .dataframe thead th {\n",
       "        text-align: right;\n",
       "    }\n",
       "</style>\n",
       "<table border=\"1\" class=\"dataframe\">\n",
       "  <thead>\n",
       "    <tr style=\"text-align: right;\">\n",
       "      <th></th>\n",
       "      <th>Maaş</th>\n",
       "      <th>Yaş</th>\n",
       "      <th>Çalışma Saatleri</th>\n",
       "    </tr>\n",
       "  </thead>\n",
       "  <tbody>\n",
       "    <tr>\n",
       "      <th>Berat</th>\n",
       "      <td>1.008778</td>\n",
       "      <td>-0.358705</td>\n",
       "      <td>0.927597</td>\n",
       "    </tr>\n",
       "    <tr>\n",
       "      <th>Şevval</th>\n",
       "      <td>1.770948</td>\n",
       "      <td>0.339156</td>\n",
       "      <td>-0.080529</td>\n",
       "    </tr>\n",
       "    <tr>\n",
       "      <th>Hakan</th>\n",
       "      <td>0.647858</td>\n",
       "      <td>1.213184</td>\n",
       "      <td>0.686979</td>\n",
       "    </tr>\n",
       "    <tr>\n",
       "      <th>Fazilet</th>\n",
       "      <td>0.681217</td>\n",
       "      <td>0.898573</td>\n",
       "      <td>0.244885</td>\n",
       "    </tr>\n",
       "  </tbody>\n",
       "</table>\n",
       "</div>"
      ],
      "text/plain": [
       "             Maaş       Yaş  Çalışma Saatleri\n",
       "Berat    1.008778 -0.358705          0.927597\n",
       "Şevval   1.770948  0.339156         -0.080529\n",
       "Hakan    0.647858  1.213184          0.686979\n",
       "Fazilet  0.681217  0.898573          0.244885"
      ]
     },
     "execution_count": 9,
     "metadata": {},
     "output_type": "execute_result"
    }
   ],
   "source": [
    "newDataFrame"
   ]
  },
  {
   "cell_type": "code",
   "execution_count": 10,
   "id": "minimal-moral",
   "metadata": {},
   "outputs": [
    {
     "data": {
      "text/plain": [
       "0.9275965090919206"
      ]
     },
     "execution_count": 10,
     "metadata": {},
     "output_type": "execute_result"
    }
   ],
   "source": [
    "newDataFrame[\"Çalışma Saatleri\"][\"Berat\"]"
   ]
  },
  {
   "cell_type": "code",
   "execution_count": 11,
   "id": "noble-protest",
   "metadata": {},
   "outputs": [
    {
     "data": {
      "text/html": [
       "<div>\n",
       "<style scoped>\n",
       "    .dataframe tbody tr th:only-of-type {\n",
       "        vertical-align: middle;\n",
       "    }\n",
       "\n",
       "    .dataframe tbody tr th {\n",
       "        vertical-align: top;\n",
       "    }\n",
       "\n",
       "    .dataframe thead th {\n",
       "        text-align: right;\n",
       "    }\n",
       "</style>\n",
       "<table border=\"1\" class=\"dataframe\">\n",
       "  <thead>\n",
       "    <tr style=\"text-align: right;\">\n",
       "      <th></th>\n",
       "      <th>Maaş</th>\n",
       "      <th>Yaş</th>\n",
       "    </tr>\n",
       "  </thead>\n",
       "  <tbody>\n",
       "    <tr>\n",
       "      <th>Berat</th>\n",
       "      <td>1.008778</td>\n",
       "      <td>-0.358705</td>\n",
       "    </tr>\n",
       "    <tr>\n",
       "      <th>Şevval</th>\n",
       "      <td>1.770948</td>\n",
       "      <td>0.339156</td>\n",
       "    </tr>\n",
       "    <tr>\n",
       "      <th>Hakan</th>\n",
       "      <td>0.647858</td>\n",
       "      <td>1.213184</td>\n",
       "    </tr>\n",
       "    <tr>\n",
       "      <th>Fazilet</th>\n",
       "      <td>0.681217</td>\n",
       "      <td>0.898573</td>\n",
       "    </tr>\n",
       "  </tbody>\n",
       "</table>\n",
       "</div>"
      ],
      "text/plain": [
       "             Maaş       Yaş\n",
       "Berat    1.008778 -0.358705\n",
       "Şevval   1.770948  0.339156\n",
       "Hakan    0.647858  1.213184\n",
       "Fazilet  0.681217  0.898573"
      ]
     },
     "execution_count": 11,
     "metadata": {},
     "output_type": "execute_result"
    }
   ],
   "source": [
    "newDataFrame[[\"Maaş\", \"Yaş\"]]"
   ]
  },
  {
   "cell_type": "code",
   "execution_count": 12,
   "id": "exposed-scott",
   "metadata": {},
   "outputs": [
    {
     "data": {
      "text/html": [
       "<div>\n",
       "<style scoped>\n",
       "    .dataframe tbody tr th:only-of-type {\n",
       "        vertical-align: middle;\n",
       "    }\n",
       "\n",
       "    .dataframe tbody tr th {\n",
       "        vertical-align: top;\n",
       "    }\n",
       "\n",
       "    .dataframe thead th {\n",
       "        text-align: right;\n",
       "    }\n",
       "</style>\n",
       "<table border=\"1\" class=\"dataframe\">\n",
       "  <thead>\n",
       "    <tr style=\"text-align: right;\">\n",
       "      <th></th>\n",
       "      <th>Maaş</th>\n",
       "      <th>Yaş</th>\n",
       "    </tr>\n",
       "  </thead>\n",
       "  <tbody>\n",
       "    <tr>\n",
       "      <th>Berat</th>\n",
       "      <td>1.008778</td>\n",
       "      <td>-0.358705</td>\n",
       "    </tr>\n",
       "    <tr>\n",
       "      <th>Şevval</th>\n",
       "      <td>1.770948</td>\n",
       "      <td>0.339156</td>\n",
       "    </tr>\n",
       "    <tr>\n",
       "      <th>Hakan</th>\n",
       "      <td>0.647858</td>\n",
       "      <td>1.213184</td>\n",
       "    </tr>\n",
       "    <tr>\n",
       "      <th>Fazilet</th>\n",
       "      <td>0.681217</td>\n",
       "      <td>0.898573</td>\n",
       "    </tr>\n",
       "  </tbody>\n",
       "</table>\n",
       "</div>"
      ],
      "text/plain": [
       "             Maaş       Yaş\n",
       "Berat    1.008778 -0.358705\n",
       "Şevval   1.770948  0.339156\n",
       "Hakan    0.647858  1.213184\n",
       "Fazilet  0.681217  0.898573"
      ]
     },
     "execution_count": 12,
     "metadata": {},
     "output_type": "execute_result"
    }
   ],
   "source": [
    "newDataFrame[[\"Maaş\", \"Yaş\"]]"
   ]
  },
  {
   "cell_type": "code",
   "execution_count": 13,
   "id": "unnecessary-maryland",
   "metadata": {},
   "outputs": [
    {
     "data": {
      "text/plain": [
       "Maaş                1.008778\n",
       "Yaş                -0.358705\n",
       "Çalışma Saatleri    0.927597\n",
       "Name: Berat, dtype: float64"
      ]
     },
     "execution_count": 13,
     "metadata": {},
     "output_type": "execute_result"
    }
   ],
   "source": [
    "newDataFrame.loc[\"Berat\"]"
   ]
  },
  {
   "cell_type": "code",
   "execution_count": 14,
   "id": "identical-trance",
   "metadata": {},
   "outputs": [
    {
     "data": {
      "text/plain": [
       "Maaş                1.008778\n",
       "Yaş                -0.358705\n",
       "Çalışma Saatleri    0.927597\n",
       "Name: Berat, dtype: float64"
      ]
     },
     "execution_count": 14,
     "metadata": {},
     "output_type": "execute_result"
    }
   ],
   "source": [
    "newDataFrame.iloc[0]"
   ]
  },
  {
   "cell_type": "code",
   "execution_count": 15,
   "id": "difficult-logistics",
   "metadata": {},
   "outputs": [
    {
     "data": {
      "text/html": [
       "<div>\n",
       "<style scoped>\n",
       "    .dataframe tbody tr th:only-of-type {\n",
       "        vertical-align: middle;\n",
       "    }\n",
       "\n",
       "    .dataframe tbody tr th {\n",
       "        vertical-align: top;\n",
       "    }\n",
       "\n",
       "    .dataframe thead th {\n",
       "        text-align: right;\n",
       "    }\n",
       "</style>\n",
       "<table border=\"1\" class=\"dataframe\">\n",
       "  <thead>\n",
       "    <tr style=\"text-align: right;\">\n",
       "      <th></th>\n",
       "      <th>Maaş</th>\n",
       "      <th>Yaş</th>\n",
       "      <th>Çalışma Saatleri</th>\n",
       "    </tr>\n",
       "  </thead>\n",
       "  <tbody>\n",
       "    <tr>\n",
       "      <th>Berat</th>\n",
       "      <td>1.008778</td>\n",
       "      <td>-0.358705</td>\n",
       "      <td>0.927597</td>\n",
       "    </tr>\n",
       "    <tr>\n",
       "      <th>Şevval</th>\n",
       "      <td>1.770948</td>\n",
       "      <td>0.339156</td>\n",
       "      <td>-0.080529</td>\n",
       "    </tr>\n",
       "    <tr>\n",
       "      <th>Hakan</th>\n",
       "      <td>0.647858</td>\n",
       "      <td>1.213184</td>\n",
       "      <td>0.686979</td>\n",
       "    </tr>\n",
       "    <tr>\n",
       "      <th>Fazilet</th>\n",
       "      <td>0.681217</td>\n",
       "      <td>0.898573</td>\n",
       "      <td>0.244885</td>\n",
       "    </tr>\n",
       "  </tbody>\n",
       "</table>\n",
       "</div>"
      ],
      "text/plain": [
       "             Maaş       Yaş  Çalışma Saatleri\n",
       "Berat    1.008778 -0.358705          0.927597\n",
       "Şevval   1.770948  0.339156         -0.080529\n",
       "Hakan    0.647858  1.213184          0.686979\n",
       "Fazilet  0.681217  0.898573          0.244885"
      ]
     },
     "execution_count": 15,
     "metadata": {},
     "output_type": "execute_result"
    }
   ],
   "source": [
    "newDataFrame"
   ]
  },
  {
   "cell_type": "code",
   "execution_count": 17,
   "id": "advance-yesterday",
   "metadata": {},
   "outputs": [
    {
     "data": {
      "text/plain": [
       "Maaş                0.681217\n",
       "Yaş                 0.898573\n",
       "Çalışma Saatleri    0.244885\n",
       "Name: Fazilet, dtype: float64"
      ]
     },
     "execution_count": 17,
     "metadata": {},
     "output_type": "execute_result"
    }
   ],
   "source": [
    "newDataFrame.loc['Fazilet']"
   ]
  },
  {
   "cell_type": "code",
   "execution_count": 19,
   "id": "deluxe-carter",
   "metadata": {},
   "outputs": [
    {
     "data": {
      "text/plain": [
       "0.6812166059466478"
      ]
     },
     "execution_count": 19,
     "metadata": {},
     "output_type": "execute_result"
    }
   ],
   "source": [
    "newDataFrame.loc['Fazilet']['Maaş']"
   ]
  },
  {
   "cell_type": "code",
   "execution_count": 20,
   "id": "amber-failing",
   "metadata": {},
   "outputs": [],
   "source": [
    "newDataFrame.loc['Fazilet']['Maaş'] = 10"
   ]
  },
  {
   "cell_type": "code",
   "execution_count": 21,
   "id": "exciting-fortune",
   "metadata": {},
   "outputs": [
    {
     "data": {
      "text/html": [
       "<div>\n",
       "<style scoped>\n",
       "    .dataframe tbody tr th:only-of-type {\n",
       "        vertical-align: middle;\n",
       "    }\n",
       "\n",
       "    .dataframe tbody tr th {\n",
       "        vertical-align: top;\n",
       "    }\n",
       "\n",
       "    .dataframe thead th {\n",
       "        text-align: right;\n",
       "    }\n",
       "</style>\n",
       "<table border=\"1\" class=\"dataframe\">\n",
       "  <thead>\n",
       "    <tr style=\"text-align: right;\">\n",
       "      <th></th>\n",
       "      <th>Maaş</th>\n",
       "      <th>Yaş</th>\n",
       "      <th>Çalışma Saatleri</th>\n",
       "    </tr>\n",
       "  </thead>\n",
       "  <tbody>\n",
       "    <tr>\n",
       "      <th>Berat</th>\n",
       "      <td>1.008778</td>\n",
       "      <td>-0.358705</td>\n",
       "      <td>0.927597</td>\n",
       "    </tr>\n",
       "    <tr>\n",
       "      <th>Şevval</th>\n",
       "      <td>1.770948</td>\n",
       "      <td>0.339156</td>\n",
       "      <td>-0.080529</td>\n",
       "    </tr>\n",
       "    <tr>\n",
       "      <th>Hakan</th>\n",
       "      <td>0.647858</td>\n",
       "      <td>1.213184</td>\n",
       "      <td>0.686979</td>\n",
       "    </tr>\n",
       "    <tr>\n",
       "      <th>Fazilet</th>\n",
       "      <td>10.000000</td>\n",
       "      <td>0.898573</td>\n",
       "      <td>0.244885</td>\n",
       "    </tr>\n",
       "  </tbody>\n",
       "</table>\n",
       "</div>"
      ],
      "text/plain": [
       "              Maaş       Yaş  Çalışma Saatleri\n",
       "Berat     1.008778 -0.358705          0.927597\n",
       "Şevval    1.770948  0.339156         -0.080529\n",
       "Hakan     0.647858  1.213184          0.686979\n",
       "Fazilet  10.000000  0.898573          0.244885"
      ]
     },
     "execution_count": 21,
     "metadata": {},
     "output_type": "execute_result"
    }
   ],
   "source": [
    "newDataFrame"
   ]
  },
  {
   "cell_type": "code",
   "execution_count": 22,
   "id": "architectural-seafood",
   "metadata": {},
   "outputs": [
    {
     "data": {
      "text/html": [
       "<div>\n",
       "<style scoped>\n",
       "    .dataframe tbody tr th:only-of-type {\n",
       "        vertical-align: middle;\n",
       "    }\n",
       "\n",
       "    .dataframe tbody tr th {\n",
       "        vertical-align: top;\n",
       "    }\n",
       "\n",
       "    .dataframe thead th {\n",
       "        text-align: right;\n",
       "    }\n",
       "</style>\n",
       "<table border=\"1\" class=\"dataframe\">\n",
       "  <thead>\n",
       "    <tr style=\"text-align: right;\">\n",
       "      <th></th>\n",
       "      <th>index</th>\n",
       "      <th>Maaş</th>\n",
       "      <th>Yaş</th>\n",
       "      <th>Çalışma Saatleri</th>\n",
       "    </tr>\n",
       "  </thead>\n",
       "  <tbody>\n",
       "    <tr>\n",
       "      <th>0</th>\n",
       "      <td>Berat</td>\n",
       "      <td>1.008778</td>\n",
       "      <td>-0.358705</td>\n",
       "      <td>0.927597</td>\n",
       "    </tr>\n",
       "    <tr>\n",
       "      <th>1</th>\n",
       "      <td>Şevval</td>\n",
       "      <td>1.770948</td>\n",
       "      <td>0.339156</td>\n",
       "      <td>-0.080529</td>\n",
       "    </tr>\n",
       "    <tr>\n",
       "      <th>2</th>\n",
       "      <td>Hakan</td>\n",
       "      <td>0.647858</td>\n",
       "      <td>1.213184</td>\n",
       "      <td>0.686979</td>\n",
       "    </tr>\n",
       "    <tr>\n",
       "      <th>3</th>\n",
       "      <td>Fazilet</td>\n",
       "      <td>10.000000</td>\n",
       "      <td>0.898573</td>\n",
       "      <td>0.244885</td>\n",
       "    </tr>\n",
       "  </tbody>\n",
       "</table>\n",
       "</div>"
      ],
      "text/plain": [
       "     index       Maaş       Yaş  Çalışma Saatleri\n",
       "0    Berat   1.008778 -0.358705          0.927597\n",
       "1   Şevval   1.770948  0.339156         -0.080529\n",
       "2    Hakan   0.647858  1.213184          0.686979\n",
       "3  Fazilet  10.000000  0.898573          0.244885"
      ]
     },
     "execution_count": 22,
     "metadata": {},
     "output_type": "execute_result"
    }
   ],
   "source": [
    "newDataFrame.reset_index()"
   ]
  },
  {
   "cell_type": "code",
   "execution_count": 23,
   "id": "looking-pulse",
   "metadata": {},
   "outputs": [
    {
     "data": {
      "text/html": [
       "<div>\n",
       "<style scoped>\n",
       "    .dataframe tbody tr th:only-of-type {\n",
       "        vertical-align: middle;\n",
       "    }\n",
       "\n",
       "    .dataframe tbody tr th {\n",
       "        vertical-align: top;\n",
       "    }\n",
       "\n",
       "    .dataframe thead th {\n",
       "        text-align: right;\n",
       "    }\n",
       "</style>\n",
       "<table border=\"1\" class=\"dataframe\">\n",
       "  <thead>\n",
       "    <tr style=\"text-align: right;\">\n",
       "      <th></th>\n",
       "      <th>Maaş</th>\n",
       "      <th>Yaş</th>\n",
       "      <th>Çalışma Saatleri</th>\n",
       "    </tr>\n",
       "  </thead>\n",
       "  <tbody>\n",
       "    <tr>\n",
       "      <th>Berat</th>\n",
       "      <td>1.008778</td>\n",
       "      <td>-0.358705</td>\n",
       "      <td>0.927597</td>\n",
       "    </tr>\n",
       "    <tr>\n",
       "      <th>Şevval</th>\n",
       "      <td>1.770948</td>\n",
       "      <td>0.339156</td>\n",
       "      <td>-0.080529</td>\n",
       "    </tr>\n",
       "    <tr>\n",
       "      <th>Hakan</th>\n",
       "      <td>0.647858</td>\n",
       "      <td>1.213184</td>\n",
       "      <td>0.686979</td>\n",
       "    </tr>\n",
       "    <tr>\n",
       "      <th>Fazilet</th>\n",
       "      <td>10.000000</td>\n",
       "      <td>0.898573</td>\n",
       "      <td>0.244885</td>\n",
       "    </tr>\n",
       "  </tbody>\n",
       "</table>\n",
       "</div>"
      ],
      "text/plain": [
       "              Maaş       Yaş  Çalışma Saatleri\n",
       "Berat     1.008778 -0.358705          0.927597\n",
       "Şevval    1.770948  0.339156         -0.080529\n",
       "Hakan     0.647858  1.213184          0.686979\n",
       "Fazilet  10.000000  0.898573          0.244885"
      ]
     },
     "execution_count": 23,
     "metadata": {},
     "output_type": "execute_result"
    }
   ],
   "source": [
    "newDataFrame"
   ]
  },
  {
   "cell_type": "code",
   "execution_count": 24,
   "id": "protecting-roots",
   "metadata": {},
   "outputs": [],
   "source": [
    "newDataFrame.reset_index(inplace=True)"
   ]
  },
  {
   "cell_type": "code",
   "execution_count": 25,
   "id": "velvet-input",
   "metadata": {},
   "outputs": [
    {
     "data": {
      "text/html": [
       "<div>\n",
       "<style scoped>\n",
       "    .dataframe tbody tr th:only-of-type {\n",
       "        vertical-align: middle;\n",
       "    }\n",
       "\n",
       "    .dataframe tbody tr th {\n",
       "        vertical-align: top;\n",
       "    }\n",
       "\n",
       "    .dataframe thead th {\n",
       "        text-align: right;\n",
       "    }\n",
       "</style>\n",
       "<table border=\"1\" class=\"dataframe\">\n",
       "  <thead>\n",
       "    <tr style=\"text-align: right;\">\n",
       "      <th></th>\n",
       "      <th>index</th>\n",
       "      <th>Maaş</th>\n",
       "      <th>Yaş</th>\n",
       "      <th>Çalışma Saatleri</th>\n",
       "    </tr>\n",
       "  </thead>\n",
       "  <tbody>\n",
       "    <tr>\n",
       "      <th>0</th>\n",
       "      <td>Berat</td>\n",
       "      <td>1.008778</td>\n",
       "      <td>-0.358705</td>\n",
       "      <td>0.927597</td>\n",
       "    </tr>\n",
       "    <tr>\n",
       "      <th>1</th>\n",
       "      <td>Şevval</td>\n",
       "      <td>1.770948</td>\n",
       "      <td>0.339156</td>\n",
       "      <td>-0.080529</td>\n",
       "    </tr>\n",
       "    <tr>\n",
       "      <th>2</th>\n",
       "      <td>Hakan</td>\n",
       "      <td>0.647858</td>\n",
       "      <td>1.213184</td>\n",
       "      <td>0.686979</td>\n",
       "    </tr>\n",
       "    <tr>\n",
       "      <th>3</th>\n",
       "      <td>Fazilet</td>\n",
       "      <td>10.000000</td>\n",
       "      <td>0.898573</td>\n",
       "      <td>0.244885</td>\n",
       "    </tr>\n",
       "  </tbody>\n",
       "</table>\n",
       "</div>"
      ],
      "text/plain": [
       "     index       Maaş       Yaş  Çalışma Saatleri\n",
       "0    Berat   1.008778 -0.358705          0.927597\n",
       "1   Şevval   1.770948  0.339156         -0.080529\n",
       "2    Hakan   0.647858  1.213184          0.686979\n",
       "3  Fazilet  10.000000  0.898573          0.244885"
      ]
     },
     "execution_count": 25,
     "metadata": {},
     "output_type": "execute_result"
    }
   ],
   "source": [
    "newDataFrame"
   ]
  },
  {
   "cell_type": "code",
   "execution_count": 34,
   "id": "economic-perth",
   "metadata": {},
   "outputs": [],
   "source": [
    "newDataFrame = pn.DataFrame([\"Mustafa\", \"Berat\", \"Selami\", \"Özlem\"], np.random.randint(5, 100, 4))"
   ]
  },
  {
   "cell_type": "code",
   "execution_count": 35,
   "id": "copyrighted-speed",
   "metadata": {},
   "outputs": [
    {
     "data": {
      "text/html": [
       "<div>\n",
       "<style scoped>\n",
       "    .dataframe tbody tr th:only-of-type {\n",
       "        vertical-align: middle;\n",
       "    }\n",
       "\n",
       "    .dataframe tbody tr th {\n",
       "        vertical-align: top;\n",
       "    }\n",
       "\n",
       "    .dataframe thead th {\n",
       "        text-align: right;\n",
       "    }\n",
       "</style>\n",
       "<table border=\"1\" class=\"dataframe\">\n",
       "  <thead>\n",
       "    <tr style=\"text-align: right;\">\n",
       "      <th></th>\n",
       "      <th>0</th>\n",
       "    </tr>\n",
       "  </thead>\n",
       "  <tbody>\n",
       "    <tr>\n",
       "      <th>37</th>\n",
       "      <td>Mustafa</td>\n",
       "    </tr>\n",
       "    <tr>\n",
       "      <th>88</th>\n",
       "      <td>Berat</td>\n",
       "    </tr>\n",
       "    <tr>\n",
       "      <th>34</th>\n",
       "      <td>Selami</td>\n",
       "    </tr>\n",
       "    <tr>\n",
       "      <th>43</th>\n",
       "      <td>Özlem</td>\n",
       "    </tr>\n",
       "  </tbody>\n",
       "</table>\n",
       "</div>"
      ],
      "text/plain": [
       "          0\n",
       "37  Mustafa\n",
       "88    Berat\n",
       "34   Selami\n",
       "43    Özlem"
      ]
     },
     "execution_count": 35,
     "metadata": {},
     "output_type": "execute_result"
    }
   ],
   "source": [
    "newDataFrame"
   ]
  },
  {
   "cell_type": "code",
   "execution_count": 36,
   "id": "quarterly-orlando",
   "metadata": {},
   "outputs": [],
   "source": [
    "newSeries = pn.Series([\"Mustafa\", \"Berat\", \"Selami\", \"Özlem\"], np.random.randint(5, 100, 4))"
   ]
  },
  {
   "cell_type": "code",
   "execution_count": 37,
   "id": "friendly-draft",
   "metadata": {},
   "outputs": [
    {
     "data": {
      "text/plain": [
       "67    Mustafa\n",
       "96      Berat\n",
       "62     Selami\n",
       "87      Özlem\n",
       "dtype: object"
      ]
     },
     "execution_count": 37,
     "metadata": {},
     "output_type": "execute_result"
    }
   ],
   "source": [
    "newSeries"
   ]
  },
  {
   "cell_type": "code",
   "execution_count": 52,
   "id": "chicken-period",
   "metadata": {},
   "outputs": [],
   "source": [
    "random = np.random.randn(4,3)\n",
    "newDataFrame = pn.DataFrame( random ,columns=[\"Maaş\", \"Saat\", \"Yaş\"], index=newSeries.values)"
   ]
  },
  {
   "cell_type": "code",
   "execution_count": 53,
   "id": "helpful-attempt",
   "metadata": {},
   "outputs": [
    {
     "data": {
      "text/html": [
       "<div>\n",
       "<style scoped>\n",
       "    .dataframe tbody tr th:only-of-type {\n",
       "        vertical-align: middle;\n",
       "    }\n",
       "\n",
       "    .dataframe tbody tr th {\n",
       "        vertical-align: top;\n",
       "    }\n",
       "\n",
       "    .dataframe thead th {\n",
       "        text-align: right;\n",
       "    }\n",
       "</style>\n",
       "<table border=\"1\" class=\"dataframe\">\n",
       "  <thead>\n",
       "    <tr style=\"text-align: right;\">\n",
       "      <th></th>\n",
       "      <th>Maaş</th>\n",
       "      <th>Saat</th>\n",
       "      <th>Yaş</th>\n",
       "    </tr>\n",
       "  </thead>\n",
       "  <tbody>\n",
       "    <tr>\n",
       "      <th>Mustafa</th>\n",
       "      <td>0.032868</td>\n",
       "      <td>-1.953012</td>\n",
       "      <td>1.375672</td>\n",
       "    </tr>\n",
       "    <tr>\n",
       "      <th>Berat</th>\n",
       "      <td>1.446390</td>\n",
       "      <td>-0.641169</td>\n",
       "      <td>0.291806</td>\n",
       "    </tr>\n",
       "    <tr>\n",
       "      <th>Selami</th>\n",
       "      <td>-1.095312</td>\n",
       "      <td>0.178220</td>\n",
       "      <td>-0.356227</td>\n",
       "    </tr>\n",
       "    <tr>\n",
       "      <th>Özlem</th>\n",
       "      <td>0.342263</td>\n",
       "      <td>1.252266</td>\n",
       "      <td>-0.907654</td>\n",
       "    </tr>\n",
       "  </tbody>\n",
       "</table>\n",
       "</div>"
      ],
      "text/plain": [
       "             Maaş      Saat       Yaş\n",
       "Mustafa  0.032868 -1.953012  1.375672\n",
       "Berat    1.446390 -0.641169  0.291806\n",
       "Selami  -1.095312  0.178220 -0.356227\n",
       "Özlem    0.342263  1.252266 -0.907654"
      ]
     },
     "execution_count": 53,
     "metadata": {},
     "output_type": "execute_result"
    }
   ],
   "source": [
    "newDataFrame"
   ]
  },
  {
   "cell_type": "code",
   "execution_count": 55,
   "id": "rapid-handling",
   "metadata": {},
   "outputs": [],
   "source": [
    "newIndexList = [\"Mus\", \"Ber\", \"Sel\", \"Özl\"]\n",
    "newDataFrame[\"New Index\"] = newIndexList"
   ]
  },
  {
   "cell_type": "code",
   "execution_count": 56,
   "id": "third-above",
   "metadata": {},
   "outputs": [
    {
     "data": {
      "text/html": [
       "<div>\n",
       "<style scoped>\n",
       "    .dataframe tbody tr th:only-of-type {\n",
       "        vertical-align: middle;\n",
       "    }\n",
       "\n",
       "    .dataframe tbody tr th {\n",
       "        vertical-align: top;\n",
       "    }\n",
       "\n",
       "    .dataframe thead th {\n",
       "        text-align: right;\n",
       "    }\n",
       "</style>\n",
       "<table border=\"1\" class=\"dataframe\">\n",
       "  <thead>\n",
       "    <tr style=\"text-align: right;\">\n",
       "      <th></th>\n",
       "      <th>Maaş</th>\n",
       "      <th>Saat</th>\n",
       "      <th>Yaş</th>\n",
       "      <th>New Index</th>\n",
       "    </tr>\n",
       "  </thead>\n",
       "  <tbody>\n",
       "    <tr>\n",
       "      <th>Mustafa</th>\n",
       "      <td>0.032868</td>\n",
       "      <td>-1.953012</td>\n",
       "      <td>1.375672</td>\n",
       "      <td>Mus</td>\n",
       "    </tr>\n",
       "    <tr>\n",
       "      <th>Berat</th>\n",
       "      <td>1.446390</td>\n",
       "      <td>-0.641169</td>\n",
       "      <td>0.291806</td>\n",
       "      <td>Ber</td>\n",
       "    </tr>\n",
       "    <tr>\n",
       "      <th>Selami</th>\n",
       "      <td>-1.095312</td>\n",
       "      <td>0.178220</td>\n",
       "      <td>-0.356227</td>\n",
       "      <td>Sel</td>\n",
       "    </tr>\n",
       "    <tr>\n",
       "      <th>Özlem</th>\n",
       "      <td>0.342263</td>\n",
       "      <td>1.252266</td>\n",
       "      <td>-0.907654</td>\n",
       "      <td>Özl</td>\n",
       "    </tr>\n",
       "  </tbody>\n",
       "</table>\n",
       "</div>"
      ],
      "text/plain": [
       "             Maaş      Saat       Yaş New Index\n",
       "Mustafa  0.032868 -1.953012  1.375672       Mus\n",
       "Berat    1.446390 -0.641169  0.291806       Ber\n",
       "Selami  -1.095312  0.178220 -0.356227       Sel\n",
       "Özlem    0.342263  1.252266 -0.907654       Özl"
      ]
     },
     "execution_count": 56,
     "metadata": {},
     "output_type": "execute_result"
    }
   ],
   "source": [
    "newDataFrame"
   ]
  },
  {
   "cell_type": "code",
   "execution_count": 57,
   "id": "circular-honey",
   "metadata": {},
   "outputs": [
    {
     "data": {
      "text/html": [
       "<div>\n",
       "<style scoped>\n",
       "    .dataframe tbody tr th:only-of-type {\n",
       "        vertical-align: middle;\n",
       "    }\n",
       "\n",
       "    .dataframe tbody tr th {\n",
       "        vertical-align: top;\n",
       "    }\n",
       "\n",
       "    .dataframe thead th {\n",
       "        text-align: right;\n",
       "    }\n",
       "</style>\n",
       "<table border=\"1\" class=\"dataframe\">\n",
       "  <thead>\n",
       "    <tr style=\"text-align: right;\">\n",
       "      <th></th>\n",
       "      <th>Maaş</th>\n",
       "      <th>Saat</th>\n",
       "      <th>Yaş</th>\n",
       "    </tr>\n",
       "    <tr>\n",
       "      <th>New Index</th>\n",
       "      <th></th>\n",
       "      <th></th>\n",
       "      <th></th>\n",
       "    </tr>\n",
       "  </thead>\n",
       "  <tbody>\n",
       "    <tr>\n",
       "      <th>Mus</th>\n",
       "      <td>0.032868</td>\n",
       "      <td>-1.953012</td>\n",
       "      <td>1.375672</td>\n",
       "    </tr>\n",
       "    <tr>\n",
       "      <th>Ber</th>\n",
       "      <td>1.446390</td>\n",
       "      <td>-0.641169</td>\n",
       "      <td>0.291806</td>\n",
       "    </tr>\n",
       "    <tr>\n",
       "      <th>Sel</th>\n",
       "      <td>-1.095312</td>\n",
       "      <td>0.178220</td>\n",
       "      <td>-0.356227</td>\n",
       "    </tr>\n",
       "    <tr>\n",
       "      <th>Özl</th>\n",
       "      <td>0.342263</td>\n",
       "      <td>1.252266</td>\n",
       "      <td>-0.907654</td>\n",
       "    </tr>\n",
       "  </tbody>\n",
       "</table>\n",
       "</div>"
      ],
      "text/plain": [
       "               Maaş      Saat       Yaş\n",
       "New Index                              \n",
       "Mus        0.032868 -1.953012  1.375672\n",
       "Ber        1.446390 -0.641169  0.291806\n",
       "Sel       -1.095312  0.178220 -0.356227\n",
       "Özl        0.342263  1.252266 -0.907654"
      ]
     },
     "execution_count": 57,
     "metadata": {},
     "output_type": "execute_result"
    }
   ],
   "source": [
    "newDataFrame.set_index(\"New Index\")"
   ]
  },
  {
   "cell_type": "code",
   "execution_count": 58,
   "id": "disturbed-brown",
   "metadata": {},
   "outputs": [
    {
     "data": {
      "text/html": [
       "<div>\n",
       "<style scoped>\n",
       "    .dataframe tbody tr th:only-of-type {\n",
       "        vertical-align: middle;\n",
       "    }\n",
       "\n",
       "    .dataframe tbody tr th {\n",
       "        vertical-align: top;\n",
       "    }\n",
       "\n",
       "    .dataframe thead th {\n",
       "        text-align: right;\n",
       "    }\n",
       "</style>\n",
       "<table border=\"1\" class=\"dataframe\">\n",
       "  <thead>\n",
       "    <tr style=\"text-align: right;\">\n",
       "      <th></th>\n",
       "      <th>Maaş</th>\n",
       "      <th>Saat</th>\n",
       "      <th>Yaş</th>\n",
       "      <th>New Index</th>\n",
       "    </tr>\n",
       "  </thead>\n",
       "  <tbody>\n",
       "    <tr>\n",
       "      <th>Mustafa</th>\n",
       "      <td>0.032868</td>\n",
       "      <td>-1.953012</td>\n",
       "      <td>1.375672</td>\n",
       "      <td>Mus</td>\n",
       "    </tr>\n",
       "    <tr>\n",
       "      <th>Berat</th>\n",
       "      <td>1.446390</td>\n",
       "      <td>-0.641169</td>\n",
       "      <td>0.291806</td>\n",
       "      <td>Ber</td>\n",
       "    </tr>\n",
       "    <tr>\n",
       "      <th>Selami</th>\n",
       "      <td>-1.095312</td>\n",
       "      <td>0.178220</td>\n",
       "      <td>-0.356227</td>\n",
       "      <td>Sel</td>\n",
       "    </tr>\n",
       "    <tr>\n",
       "      <th>Özlem</th>\n",
       "      <td>0.342263</td>\n",
       "      <td>1.252266</td>\n",
       "      <td>-0.907654</td>\n",
       "      <td>Özl</td>\n",
       "    </tr>\n",
       "  </tbody>\n",
       "</table>\n",
       "</div>"
      ],
      "text/plain": [
       "             Maaş      Saat       Yaş New Index\n",
       "Mustafa  0.032868 -1.953012  1.375672       Mus\n",
       "Berat    1.446390 -0.641169  0.291806       Ber\n",
       "Selami  -1.095312  0.178220 -0.356227       Sel\n",
       "Özlem    0.342263  1.252266 -0.907654       Özl"
      ]
     },
     "execution_count": 58,
     "metadata": {},
     "output_type": "execute_result"
    }
   ],
   "source": [
    "newDataFrame"
   ]
  },
  {
   "cell_type": "code",
   "execution_count": 59,
   "id": "owned-venezuela",
   "metadata": {},
   "outputs": [],
   "source": [
    "newDataFrame.set_index(\"New Index\", inplace=True)"
   ]
  },
  {
   "cell_type": "code",
   "execution_count": 60,
   "id": "confirmed-attraction",
   "metadata": {},
   "outputs": [
    {
     "data": {
      "text/html": [
       "<div>\n",
       "<style scoped>\n",
       "    .dataframe tbody tr th:only-of-type {\n",
       "        vertical-align: middle;\n",
       "    }\n",
       "\n",
       "    .dataframe tbody tr th {\n",
       "        vertical-align: top;\n",
       "    }\n",
       "\n",
       "    .dataframe thead th {\n",
       "        text-align: right;\n",
       "    }\n",
       "</style>\n",
       "<table border=\"1\" class=\"dataframe\">\n",
       "  <thead>\n",
       "    <tr style=\"text-align: right;\">\n",
       "      <th></th>\n",
       "      <th>Maaş</th>\n",
       "      <th>Saat</th>\n",
       "      <th>Yaş</th>\n",
       "    </tr>\n",
       "    <tr>\n",
       "      <th>New Index</th>\n",
       "      <th></th>\n",
       "      <th></th>\n",
       "      <th></th>\n",
       "    </tr>\n",
       "  </thead>\n",
       "  <tbody>\n",
       "    <tr>\n",
       "      <th>Mus</th>\n",
       "      <td>0.032868</td>\n",
       "      <td>-1.953012</td>\n",
       "      <td>1.375672</td>\n",
       "    </tr>\n",
       "    <tr>\n",
       "      <th>Ber</th>\n",
       "      <td>1.446390</td>\n",
       "      <td>-0.641169</td>\n",
       "      <td>0.291806</td>\n",
       "    </tr>\n",
       "    <tr>\n",
       "      <th>Sel</th>\n",
       "      <td>-1.095312</td>\n",
       "      <td>0.178220</td>\n",
       "      <td>-0.356227</td>\n",
       "    </tr>\n",
       "    <tr>\n",
       "      <th>Özl</th>\n",
       "      <td>0.342263</td>\n",
       "      <td>1.252266</td>\n",
       "      <td>-0.907654</td>\n",
       "    </tr>\n",
       "  </tbody>\n",
       "</table>\n",
       "</div>"
      ],
      "text/plain": [
       "               Maaş      Saat       Yaş\n",
       "New Index                              \n",
       "Mus        0.032868 -1.953012  1.375672\n",
       "Ber        1.446390 -0.641169  0.291806\n",
       "Sel       -1.095312  0.178220 -0.356227\n",
       "Özl        0.342263  1.252266 -0.907654"
      ]
     },
     "execution_count": 60,
     "metadata": {},
     "output_type": "execute_result"
    }
   ],
   "source": [
    "newDataFrame"
   ]
  },
  {
   "cell_type": "code",
   "execution_count": 61,
   "id": "experimental-transformation",
   "metadata": {},
   "outputs": [],
   "source": [
    "firstIndexs = [\"Kurt\", \"Kurt\", \"Kurt\", \"Günay\", \"Günay\", \"Günay\"]"
   ]
  },
  {
   "cell_type": "code",
   "execution_count": 62,
   "id": "oriental-marina",
   "metadata": {},
   "outputs": [],
   "source": [
    "secondIndexs = [\"Mustafa Berat\", \"Ozlem\", \"Selami\", \"Emir Erdem\", \"Ozge\", \"Murat\"]"
   ]
  },
  {
   "cell_type": "code",
   "execution_count": 63,
   "id": "aboriginal-mayor",
   "metadata": {},
   "outputs": [],
   "source": [
    "mixedIndexs = list(zip(firstIndexs, secondIndexs))"
   ]
  },
  {
   "cell_type": "code",
   "execution_count": 64,
   "id": "stone-charleston",
   "metadata": {},
   "outputs": [
    {
     "data": {
      "text/plain": [
       "[('Kurt', 'Mustafa Berat'),\n",
       " ('Kurt', 'Ozlem'),\n",
       " ('Kurt', 'Selami'),\n",
       " ('Günay', 'Emir Erdem'),\n",
       " ('Günay', 'Ozge'),\n",
       " ('Günay', 'Murat')]"
      ]
     },
     "execution_count": 64,
     "metadata": {},
     "output_type": "execute_result"
    }
   ],
   "source": [
    "mixedIndexs"
   ]
  },
  {
   "cell_type": "code",
   "execution_count": 65,
   "id": "wireless-vintage",
   "metadata": {},
   "outputs": [],
   "source": [
    " multiIndex = pn.MultiIndex.from_tuples(mixedIndexs)"
   ]
  },
  {
   "cell_type": "code",
   "execution_count": 66,
   "id": "warming-september",
   "metadata": {},
   "outputs": [],
   "source": [
    "newFamilyList = [[10, 200], [20, 400], [60, 100], [90, 1000], [180, 750], [1000, 50]]"
   ]
  },
  {
   "cell_type": "code",
   "execution_count": 67,
   "id": "humanitarian-alabama",
   "metadata": {},
   "outputs": [],
   "source": [
    "npArray = np.array(newFamilyList)"
   ]
  },
  {
   "cell_type": "code",
   "execution_count": 68,
   "id": "corresponding-webcam",
   "metadata": {},
   "outputs": [],
   "source": [
    "familyDataFrame = pn.DataFrame(npArray, index=multiIndex, columns=[\"Yaş\", \"Maaş\"])"
   ]
  },
  {
   "cell_type": "code",
   "execution_count": 69,
   "id": "accepted-ferry",
   "metadata": {},
   "outputs": [
    {
     "data": {
      "text/html": [
       "<div>\n",
       "<style scoped>\n",
       "    .dataframe tbody tr th:only-of-type {\n",
       "        vertical-align: middle;\n",
       "    }\n",
       "\n",
       "    .dataframe tbody tr th {\n",
       "        vertical-align: top;\n",
       "    }\n",
       "\n",
       "    .dataframe thead th {\n",
       "        text-align: right;\n",
       "    }\n",
       "</style>\n",
       "<table border=\"1\" class=\"dataframe\">\n",
       "  <thead>\n",
       "    <tr style=\"text-align: right;\">\n",
       "      <th></th>\n",
       "      <th></th>\n",
       "      <th>Yaş</th>\n",
       "      <th>Maaş</th>\n",
       "    </tr>\n",
       "  </thead>\n",
       "  <tbody>\n",
       "    <tr>\n",
       "      <th rowspan=\"3\" valign=\"top\">Kurt</th>\n",
       "      <th>Mustafa Berat</th>\n",
       "      <td>10</td>\n",
       "      <td>200</td>\n",
       "    </tr>\n",
       "    <tr>\n",
       "      <th>Ozlem</th>\n",
       "      <td>20</td>\n",
       "      <td>400</td>\n",
       "    </tr>\n",
       "    <tr>\n",
       "      <th>Selami</th>\n",
       "      <td>60</td>\n",
       "      <td>100</td>\n",
       "    </tr>\n",
       "    <tr>\n",
       "      <th rowspan=\"3\" valign=\"top\">Günay</th>\n",
       "      <th>Emir Erdem</th>\n",
       "      <td>90</td>\n",
       "      <td>1000</td>\n",
       "    </tr>\n",
       "    <tr>\n",
       "      <th>Ozge</th>\n",
       "      <td>180</td>\n",
       "      <td>750</td>\n",
       "    </tr>\n",
       "    <tr>\n",
       "      <th>Murat</th>\n",
       "      <td>1000</td>\n",
       "      <td>50</td>\n",
       "    </tr>\n",
       "  </tbody>\n",
       "</table>\n",
       "</div>"
      ],
      "text/plain": [
       "                      Yaş  Maaş\n",
       "Kurt  Mustafa Berat    10   200\n",
       "      Ozlem            20   400\n",
       "      Selami           60   100\n",
       "Günay Emir Erdem       90  1000\n",
       "      Ozge            180   750\n",
       "      Murat          1000    50"
      ]
     },
     "execution_count": 69,
     "metadata": {},
     "output_type": "execute_result"
    }
   ],
   "source": [
    "familyDataFrame"
   ]
  },
  {
   "cell_type": "code",
   "execution_count": 73,
   "id": "artistic-attention",
   "metadata": {},
   "outputs": [
    {
     "data": {
      "text/html": [
       "<div>\n",
       "<style scoped>\n",
       "    .dataframe tbody tr th:only-of-type {\n",
       "        vertical-align: middle;\n",
       "    }\n",
       "\n",
       "    .dataframe tbody tr th {\n",
       "        vertical-align: top;\n",
       "    }\n",
       "\n",
       "    .dataframe thead th {\n",
       "        text-align: right;\n",
       "    }\n",
       "</style>\n",
       "<table border=\"1\" class=\"dataframe\">\n",
       "  <thead>\n",
       "    <tr style=\"text-align: right;\">\n",
       "      <th></th>\n",
       "      <th>Yaş</th>\n",
       "      <th>Maaş</th>\n",
       "    </tr>\n",
       "  </thead>\n",
       "  <tbody>\n",
       "    <tr>\n",
       "      <th>Mustafa Berat</th>\n",
       "      <td>10</td>\n",
       "      <td>200</td>\n",
       "    </tr>\n",
       "    <tr>\n",
       "      <th>Ozlem</th>\n",
       "      <td>20</td>\n",
       "      <td>400</td>\n",
       "    </tr>\n",
       "    <tr>\n",
       "      <th>Selami</th>\n",
       "      <td>60</td>\n",
       "      <td>100</td>\n",
       "    </tr>\n",
       "  </tbody>\n",
       "</table>\n",
       "</div>"
      ],
      "text/plain": [
       "               Yaş  Maaş\n",
       "Mustafa Berat   10   200\n",
       "Ozlem           20   400\n",
       "Selami          60   100"
      ]
     },
     "execution_count": 73,
     "metadata": {},
     "output_type": "execute_result"
    }
   ],
   "source": [
    "familyDataFrame.loc[\"Kurt\"]"
   ]
  },
  {
   "cell_type": "code",
   "execution_count": 75,
   "id": "based-smooth",
   "metadata": {},
   "outputs": [
    {
     "data": {
      "text/plain": [
       "Mustafa Berat    10\n",
       "Ozlem            20\n",
       "Selami           60\n",
       "Name: Yaş, dtype: int32"
      ]
     },
     "execution_count": 75,
     "metadata": {},
     "output_type": "execute_result"
    }
   ],
   "source": [
    "familyDataFrame.loc[\"Kurt\"][\"Yaş\"]"
   ]
  },
  {
   "cell_type": "markdown",
   "id": "scheduled-colon",
   "metadata": {},
   "source": [
    "## Pandas Operasyonlar"
   ]
  },
  {
   "cell_type": "code",
   "execution_count": 78,
   "id": "assured-macintosh",
   "metadata": {},
   "outputs": [
    {
     "data": {
      "text/html": [
       "<div>\n",
       "<style scoped>\n",
       "    .dataframe tbody tr th:only-of-type {\n",
       "        vertical-align: middle;\n",
       "    }\n",
       "\n",
       "    .dataframe tbody tr th {\n",
       "        vertical-align: top;\n",
       "    }\n",
       "\n",
       "    .dataframe thead th {\n",
       "        text-align: right;\n",
       "    }\n",
       "</style>\n",
       "<table border=\"1\" class=\"dataframe\">\n",
       "  <thead>\n",
       "    <tr style=\"text-align: right;\">\n",
       "      <th></th>\n",
       "      <th>Mersin</th>\n",
       "      <th>İstanbul</th>\n",
       "      <th>Ankara</th>\n",
       "    </tr>\n",
       "  </thead>\n",
       "  <tbody>\n",
       "    <tr>\n",
       "      <th>0</th>\n",
       "      <td>30.0</td>\n",
       "      <td>NaN</td>\n",
       "      <td>30</td>\n",
       "    </tr>\n",
       "    <tr>\n",
       "      <th>1</th>\n",
       "      <td>20.0</td>\n",
       "      <td>40.0</td>\n",
       "      <td>42</td>\n",
       "    </tr>\n",
       "    <tr>\n",
       "      <th>2</th>\n",
       "      <td>NaN</td>\n",
       "      <td>20.0</td>\n",
       "      <td>30</td>\n",
       "    </tr>\n",
       "  </tbody>\n",
       "</table>\n",
       "</div>"
      ],
      "text/plain": [
       "   Mersin  İstanbul  Ankara\n",
       "0    30.0       NaN      30\n",
       "1    20.0      40.0      42\n",
       "2     NaN      20.0      30"
      ]
     },
     "execution_count": 78,
     "metadata": {},
     "output_type": "execute_result"
    }
   ],
   "source": [
    "dictionary = {\"Mersin\" : [30, 20, np.nan], \"İstanbul\" : [np.nan, 40, 20], \"Ankara\" : [30, 42, 30]}\n",
    "weatherStateDataFrame = pn.DataFrame(dictionary)\n",
    "weatherStateDataFrame"
   ]
  },
  {
   "cell_type": "code",
   "execution_count": 79,
   "id": "checked-reconstruction",
   "metadata": {},
   "outputs": [
    {
     "data": {
      "text/html": [
       "<div>\n",
       "<style scoped>\n",
       "    .dataframe tbody tr th:only-of-type {\n",
       "        vertical-align: middle;\n",
       "    }\n",
       "\n",
       "    .dataframe tbody tr th {\n",
       "        vertical-align: top;\n",
       "    }\n",
       "\n",
       "    .dataframe thead th {\n",
       "        text-align: right;\n",
       "    }\n",
       "</style>\n",
       "<table border=\"1\" class=\"dataframe\">\n",
       "  <thead>\n",
       "    <tr style=\"text-align: right;\">\n",
       "      <th></th>\n",
       "      <th>Ankara</th>\n",
       "    </tr>\n",
       "  </thead>\n",
       "  <tbody>\n",
       "    <tr>\n",
       "      <th>0</th>\n",
       "      <td>30</td>\n",
       "    </tr>\n",
       "    <tr>\n",
       "      <th>1</th>\n",
       "      <td>42</td>\n",
       "    </tr>\n",
       "    <tr>\n",
       "      <th>2</th>\n",
       "      <td>30</td>\n",
       "    </tr>\n",
       "  </tbody>\n",
       "</table>\n",
       "</div>"
      ],
      "text/plain": [
       "   Ankara\n",
       "0      30\n",
       "1      42\n",
       "2      30"
      ]
     },
     "execution_count": 79,
     "metadata": {},
     "output_type": "execute_result"
    }
   ],
   "source": [
    "weatherStateDataFrame.dropna(axis=1)"
   ]
  },
  {
   "cell_type": "code",
   "execution_count": 80,
   "id": "stunning-mention",
   "metadata": {},
   "outputs": [
    {
     "data": {
      "text/html": [
       "<div>\n",
       "<style scoped>\n",
       "    .dataframe tbody tr th:only-of-type {\n",
       "        vertical-align: middle;\n",
       "    }\n",
       "\n",
       "    .dataframe tbody tr th {\n",
       "        vertical-align: top;\n",
       "    }\n",
       "\n",
       "    .dataframe thead th {\n",
       "        text-align: right;\n",
       "    }\n",
       "</style>\n",
       "<table border=\"1\" class=\"dataframe\">\n",
       "  <thead>\n",
       "    <tr style=\"text-align: right;\">\n",
       "      <th></th>\n",
       "      <th>Mersin</th>\n",
       "      <th>İstanbul</th>\n",
       "      <th>Ankara</th>\n",
       "    </tr>\n",
       "  </thead>\n",
       "  <tbody>\n",
       "    <tr>\n",
       "      <th>1</th>\n",
       "      <td>20.0</td>\n",
       "      <td>40.0</td>\n",
       "      <td>42</td>\n",
       "    </tr>\n",
       "  </tbody>\n",
       "</table>\n",
       "</div>"
      ],
      "text/plain": [
       "   Mersin  İstanbul  Ankara\n",
       "1    20.0      40.0      42"
      ]
     },
     "execution_count": 80,
     "metadata": {},
     "output_type": "execute_result"
    }
   ],
   "source": [
    "weatherStateDataFrame.dropna(axis=0)"
   ]
  },
  {
   "cell_type": "code",
   "execution_count": 84,
   "id": "given-ordering",
   "metadata": {},
   "outputs": [],
   "source": [
    "yeniDataMap = {\"Mersin\" : [30, 20, np.nan], \"İstanbul\" : [np.nan, 40, 20], \"Ankara\" : [30, 42, 30], \"İzmir\" : [20, 40, np.nan]}"
   ]
  },
  {
   "cell_type": "code",
   "execution_count": 87,
   "id": "normal-karen",
   "metadata": {},
   "outputs": [
    {
     "data": {
      "text/html": [
       "<div>\n",
       "<style scoped>\n",
       "    .dataframe tbody tr th:only-of-type {\n",
       "        vertical-align: middle;\n",
       "    }\n",
       "\n",
       "    .dataframe tbody tr th {\n",
       "        vertical-align: top;\n",
       "    }\n",
       "\n",
       "    .dataframe thead th {\n",
       "        text-align: right;\n",
       "    }\n",
       "</style>\n",
       "<table border=\"1\" class=\"dataframe\">\n",
       "  <thead>\n",
       "    <tr style=\"text-align: right;\">\n",
       "      <th></th>\n",
       "      <th>Mersin</th>\n",
       "      <th>İstanbul</th>\n",
       "      <th>Ankara</th>\n",
       "      <th>İzmir</th>\n",
       "    </tr>\n",
       "  </thead>\n",
       "  <tbody>\n",
       "    <tr>\n",
       "      <th>0</th>\n",
       "      <td>30.0</td>\n",
       "      <td>NaN</td>\n",
       "      <td>30</td>\n",
       "      <td>20.0</td>\n",
       "    </tr>\n",
       "    <tr>\n",
       "      <th>1</th>\n",
       "      <td>20.0</td>\n",
       "      <td>40.0</td>\n",
       "      <td>42</td>\n",
       "      <td>40.0</td>\n",
       "    </tr>\n",
       "    <tr>\n",
       "      <th>2</th>\n",
       "      <td>NaN</td>\n",
       "      <td>20.0</td>\n",
       "      <td>30</td>\n",
       "      <td>NaN</td>\n",
       "    </tr>\n",
       "  </tbody>\n",
       "</table>\n",
       "</div>"
      ],
      "text/plain": [
       "   Mersin  İstanbul  Ankara  İzmir\n",
       "0    30.0       NaN      30   20.0\n",
       "1    20.0      40.0      42   40.0\n",
       "2     NaN      20.0      30    NaN"
      ]
     },
     "execution_count": 87,
     "metadata": {},
     "output_type": "execute_result"
    }
   ],
   "source": [
    "yeniDataFrame = pn.DataFrame(yeniDataMap)\n",
    "yeniDataFrame"
   ]
  },
  {
   "cell_type": "code",
   "execution_count": 94,
   "id": "disciplinary-flash",
   "metadata": {},
   "outputs": [
    {
     "data": {
      "text/html": [
       "<div>\n",
       "<style scoped>\n",
       "    .dataframe tbody tr th:only-of-type {\n",
       "        vertical-align: middle;\n",
       "    }\n",
       "\n",
       "    .dataframe tbody tr th {\n",
       "        vertical-align: top;\n",
       "    }\n",
       "\n",
       "    .dataframe thead th {\n",
       "        text-align: right;\n",
       "    }\n",
       "</style>\n",
       "<table border=\"1\" class=\"dataframe\">\n",
       "  <thead>\n",
       "    <tr style=\"text-align: right;\">\n",
       "      <th></th>\n",
       "      <th>Mersin</th>\n",
       "      <th>İstanbul</th>\n",
       "      <th>Ankara</th>\n",
       "      <th>İzmir</th>\n",
       "    </tr>\n",
       "  </thead>\n",
       "  <tbody>\n",
       "    <tr>\n",
       "      <th>1</th>\n",
       "      <td>20.0</td>\n",
       "      <td>40.0</td>\n",
       "      <td>42</td>\n",
       "      <td>40.0</td>\n",
       "    </tr>\n",
       "  </tbody>\n",
       "</table>\n",
       "</div>"
      ],
      "text/plain": [
       "   Mersin  İstanbul  Ankara  İzmir\n",
       "1    20.0      40.0      42   40.0"
      ]
     },
     "execution_count": 94,
     "metadata": {},
     "output_type": "execute_result"
    }
   ],
   "source": [
    "yeniDataFrame.dropna(axis=0)"
   ]
  },
  {
   "cell_type": "code",
   "execution_count": 96,
   "id": "blind-serial",
   "metadata": {},
   "outputs": [
    {
     "data": {
      "text/html": [
       "<div>\n",
       "<style scoped>\n",
       "    .dataframe tbody tr th:only-of-type {\n",
       "        vertical-align: middle;\n",
       "    }\n",
       "\n",
       "    .dataframe tbody tr th {\n",
       "        vertical-align: top;\n",
       "    }\n",
       "\n",
       "    .dataframe thead th {\n",
       "        text-align: right;\n",
       "    }\n",
       "</style>\n",
       "<table border=\"1\" class=\"dataframe\">\n",
       "  <thead>\n",
       "    <tr style=\"text-align: right;\">\n",
       "      <th></th>\n",
       "      <th>Mersin</th>\n",
       "      <th>İstanbul</th>\n",
       "      <th>Ankara</th>\n",
       "      <th>İzmir</th>\n",
       "    </tr>\n",
       "  </thead>\n",
       "  <tbody>\n",
       "    <tr>\n",
       "      <th>0</th>\n",
       "      <td>30.0</td>\n",
       "      <td>--</td>\n",
       "      <td>30</td>\n",
       "      <td>20.0</td>\n",
       "    </tr>\n",
       "    <tr>\n",
       "      <th>1</th>\n",
       "      <td>20.0</td>\n",
       "      <td>40.0</td>\n",
       "      <td>42</td>\n",
       "      <td>40.0</td>\n",
       "    </tr>\n",
       "    <tr>\n",
       "      <th>2</th>\n",
       "      <td>--</td>\n",
       "      <td>20.0</td>\n",
       "      <td>30</td>\n",
       "      <td>--</td>\n",
       "    </tr>\n",
       "  </tbody>\n",
       "</table>\n",
       "</div>"
      ],
      "text/plain": [
       "  Mersin İstanbul  Ankara İzmir\n",
       "0   30.0       --      30  20.0\n",
       "1   20.0     40.0      42  40.0\n",
       "2     --     20.0      30    --"
      ]
     },
     "execution_count": 96,
     "metadata": {},
     "output_type": "execute_result"
    }
   ],
   "source": [
    "yeniDataFrame.fillna(\"--\")"
   ]
  },
  {
   "cell_type": "markdown",
   "id": "thermal-builder",
   "metadata": {},
   "source": [
    "## groupby"
   ]
  },
  {
   "cell_type": "code",
   "execution_count": 105,
   "id": "official-cooler",
   "metadata": {},
   "outputs": [],
   "source": [
    "data = {\"Departmanlar\" : [\"Yazılım\", \"Yazılım\", \"Yazılım\", \"Hukuk\", \"Hukuk\", \"Pazarlama\", \"Pazarlama\"], \"Çalışanlar\": [\"Mustafa Berat\", \"Selami\", \"Özlem\", \"Şevval\", \"Emir Erdem\", \"Ceyda\", \"Elif Naz\"], \"Maaşlar\" : [100, 200, 300, 400, 500, 600, 700]}"
   ]
  },
  {
   "cell_type": "code",
   "execution_count": 106,
   "id": "developing-southwest",
   "metadata": {},
   "outputs": [
    {
     "data": {
      "text/html": [
       "<div>\n",
       "<style scoped>\n",
       "    .dataframe tbody tr th:only-of-type {\n",
       "        vertical-align: middle;\n",
       "    }\n",
       "\n",
       "    .dataframe tbody tr th {\n",
       "        vertical-align: top;\n",
       "    }\n",
       "\n",
       "    .dataframe thead th {\n",
       "        text-align: right;\n",
       "    }\n",
       "</style>\n",
       "<table border=\"1\" class=\"dataframe\">\n",
       "  <thead>\n",
       "    <tr style=\"text-align: right;\">\n",
       "      <th></th>\n",
       "      <th>Departmanlar</th>\n",
       "      <th>Çalışanlar</th>\n",
       "      <th>Maaşlar</th>\n",
       "    </tr>\n",
       "  </thead>\n",
       "  <tbody>\n",
       "    <tr>\n",
       "      <th>0</th>\n",
       "      <td>Yazılım</td>\n",
       "      <td>Mustafa Berat</td>\n",
       "      <td>100</td>\n",
       "    </tr>\n",
       "    <tr>\n",
       "      <th>1</th>\n",
       "      <td>Yazılım</td>\n",
       "      <td>Selami</td>\n",
       "      <td>200</td>\n",
       "    </tr>\n",
       "    <tr>\n",
       "      <th>2</th>\n",
       "      <td>Yazılım</td>\n",
       "      <td>Özlem</td>\n",
       "      <td>300</td>\n",
       "    </tr>\n",
       "    <tr>\n",
       "      <th>3</th>\n",
       "      <td>Hukuk</td>\n",
       "      <td>Şevval</td>\n",
       "      <td>400</td>\n",
       "    </tr>\n",
       "    <tr>\n",
       "      <th>4</th>\n",
       "      <td>Hukuk</td>\n",
       "      <td>Emir Erdem</td>\n",
       "      <td>500</td>\n",
       "    </tr>\n",
       "    <tr>\n",
       "      <th>5</th>\n",
       "      <td>Pazarlama</td>\n",
       "      <td>Ceyda</td>\n",
       "      <td>600</td>\n",
       "    </tr>\n",
       "    <tr>\n",
       "      <th>6</th>\n",
       "      <td>Pazarlama</td>\n",
       "      <td>Elif Naz</td>\n",
       "      <td>700</td>\n",
       "    </tr>\n",
       "  </tbody>\n",
       "</table>\n",
       "</div>"
      ],
      "text/plain": [
       "  Departmanlar     Çalışanlar  Maaşlar\n",
       "0      Yazılım  Mustafa Berat      100\n",
       "1      Yazılım         Selami      200\n",
       "2      Yazılım          Özlem      300\n",
       "3        Hukuk         Şevval      400\n",
       "4        Hukuk     Emir Erdem      500\n",
       "5    Pazarlama          Ceyda      600\n",
       "6    Pazarlama       Elif Naz      700"
      ]
     },
     "execution_count": 106,
     "metadata": {},
     "output_type": "execute_result"
    }
   ],
   "source": [
    "dataFrame = pn.DataFrame(data)\n",
    "dataFrame"
   ]
  },
  {
   "cell_type": "code",
   "execution_count": 110,
   "id": "ecological-representation",
   "metadata": {},
   "outputs": [
    {
     "data": {
      "text/html": [
       "<div>\n",
       "<style scoped>\n",
       "    .dataframe tbody tr th:only-of-type {\n",
       "        vertical-align: middle;\n",
       "    }\n",
       "\n",
       "    .dataframe tbody tr th {\n",
       "        vertical-align: top;\n",
       "    }\n",
       "\n",
       "    .dataframe thead th {\n",
       "        text-align: right;\n",
       "    }\n",
       "</style>\n",
       "<table border=\"1\" class=\"dataframe\">\n",
       "  <thead>\n",
       "    <tr style=\"text-align: right;\">\n",
       "      <th></th>\n",
       "      <th>Maaşlar</th>\n",
       "    </tr>\n",
       "    <tr>\n",
       "      <th>Departmanlar</th>\n",
       "      <th></th>\n",
       "    </tr>\n",
       "  </thead>\n",
       "  <tbody>\n",
       "    <tr>\n",
       "      <th>Hukuk</th>\n",
       "      <td>450</td>\n",
       "    </tr>\n",
       "    <tr>\n",
       "      <th>Pazarlama</th>\n",
       "      <td>650</td>\n",
       "    </tr>\n",
       "    <tr>\n",
       "      <th>Yazılım</th>\n",
       "      <td>200</td>\n",
       "    </tr>\n",
       "  </tbody>\n",
       "</table>\n",
       "</div>"
      ],
      "text/plain": [
       "              Maaşlar\n",
       "Departmanlar         \n",
       "Hukuk             450\n",
       "Pazarlama         650\n",
       "Yazılım           200"
      ]
     },
     "execution_count": 110,
     "metadata": {},
     "output_type": "execute_result"
    }
   ],
   "source": [
    "groupObject = dataFrame.groupby(\"Departmanlar\")\n",
    "groupObject.mean()"
   ]
  },
  {
   "cell_type": "code",
   "execution_count": 112,
   "id": "organized-lexington",
   "metadata": {},
   "outputs": [
    {
     "data": {
      "text/html": [
       "<div>\n",
       "<style scoped>\n",
       "    .dataframe tbody tr th:only-of-type {\n",
       "        vertical-align: middle;\n",
       "    }\n",
       "\n",
       "    .dataframe tbody tr th {\n",
       "        vertical-align: top;\n",
       "    }\n",
       "\n",
       "    .dataframe thead th {\n",
       "        text-align: right;\n",
       "    }\n",
       "</style>\n",
       "<table border=\"1\" class=\"dataframe\">\n",
       "  <thead>\n",
       "    <tr style=\"text-align: right;\">\n",
       "      <th></th>\n",
       "      <th>Çalışanlar</th>\n",
       "      <th>Maaşlar</th>\n",
       "    </tr>\n",
       "    <tr>\n",
       "      <th>Departmanlar</th>\n",
       "      <th></th>\n",
       "      <th></th>\n",
       "    </tr>\n",
       "  </thead>\n",
       "  <tbody>\n",
       "    <tr>\n",
       "      <th>Hukuk</th>\n",
       "      <td>Şevval</td>\n",
       "      <td>500</td>\n",
       "    </tr>\n",
       "    <tr>\n",
       "      <th>Pazarlama</th>\n",
       "      <td>Elif Naz</td>\n",
       "      <td>700</td>\n",
       "    </tr>\n",
       "    <tr>\n",
       "      <th>Yazılım</th>\n",
       "      <td>Özlem</td>\n",
       "      <td>300</td>\n",
       "    </tr>\n",
       "  </tbody>\n",
       "</table>\n",
       "</div>"
      ],
      "text/plain": [
       "             Çalışanlar  Maaşlar\n",
       "Departmanlar                    \n",
       "Hukuk            Şevval      500\n",
       "Pazarlama      Elif Naz      700\n",
       "Yazılım           Özlem      300"
      ]
     },
     "execution_count": 112,
     "metadata": {},
     "output_type": "execute_result"
    }
   ],
   "source": [
    "groupObject.max()"
   ]
  },
  {
   "cell_type": "code",
   "execution_count": 113,
   "id": "worth-vocabulary",
   "metadata": {},
   "outputs": [
    {
     "data": {
      "text/html": [
       "<div>\n",
       "<style scoped>\n",
       "    .dataframe tbody tr th:only-of-type {\n",
       "        vertical-align: middle;\n",
       "    }\n",
       "\n",
       "    .dataframe tbody tr th {\n",
       "        vertical-align: top;\n",
       "    }\n",
       "\n",
       "    .dataframe thead tr th {\n",
       "        text-align: left;\n",
       "    }\n",
       "\n",
       "    .dataframe thead tr:last-of-type th {\n",
       "        text-align: right;\n",
       "    }\n",
       "</style>\n",
       "<table border=\"1\" class=\"dataframe\">\n",
       "  <thead>\n",
       "    <tr>\n",
       "      <th></th>\n",
       "      <th colspan=\"8\" halign=\"left\">Maaşlar</th>\n",
       "    </tr>\n",
       "    <tr>\n",
       "      <th></th>\n",
       "      <th>count</th>\n",
       "      <th>mean</th>\n",
       "      <th>std</th>\n",
       "      <th>min</th>\n",
       "      <th>25%</th>\n",
       "      <th>50%</th>\n",
       "      <th>75%</th>\n",
       "      <th>max</th>\n",
       "    </tr>\n",
       "    <tr>\n",
       "      <th>Departmanlar</th>\n",
       "      <th></th>\n",
       "      <th></th>\n",
       "      <th></th>\n",
       "      <th></th>\n",
       "      <th></th>\n",
       "      <th></th>\n",
       "      <th></th>\n",
       "      <th></th>\n",
       "    </tr>\n",
       "  </thead>\n",
       "  <tbody>\n",
       "    <tr>\n",
       "      <th>Hukuk</th>\n",
       "      <td>2.0</td>\n",
       "      <td>450.0</td>\n",
       "      <td>70.710678</td>\n",
       "      <td>400.0</td>\n",
       "      <td>425.0</td>\n",
       "      <td>450.0</td>\n",
       "      <td>475.0</td>\n",
       "      <td>500.0</td>\n",
       "    </tr>\n",
       "    <tr>\n",
       "      <th>Pazarlama</th>\n",
       "      <td>2.0</td>\n",
       "      <td>650.0</td>\n",
       "      <td>70.710678</td>\n",
       "      <td>600.0</td>\n",
       "      <td>625.0</td>\n",
       "      <td>650.0</td>\n",
       "      <td>675.0</td>\n",
       "      <td>700.0</td>\n",
       "    </tr>\n",
       "    <tr>\n",
       "      <th>Yazılım</th>\n",
       "      <td>3.0</td>\n",
       "      <td>200.0</td>\n",
       "      <td>100.000000</td>\n",
       "      <td>100.0</td>\n",
       "      <td>150.0</td>\n",
       "      <td>200.0</td>\n",
       "      <td>250.0</td>\n",
       "      <td>300.0</td>\n",
       "    </tr>\n",
       "  </tbody>\n",
       "</table>\n",
       "</div>"
      ],
      "text/plain": [
       "             Maaşlar                                                      \n",
       "               count   mean         std    min    25%    50%    75%    max\n",
       "Departmanlar                                                              \n",
       "Hukuk            2.0  450.0   70.710678  400.0  425.0  450.0  475.0  500.0\n",
       "Pazarlama        2.0  650.0   70.710678  600.0  625.0  650.0  675.0  700.0\n",
       "Yazılım          3.0  200.0  100.000000  100.0  150.0  200.0  250.0  300.0"
      ]
     },
     "execution_count": 113,
     "metadata": {},
     "output_type": "execute_result"
    }
   ],
   "source": [
    "groupObject.describe()"
   ]
  },
  {
   "cell_type": "code",
   "execution_count": 124,
   "id": "complicated-yorkshire",
   "metadata": {},
   "outputs": [],
   "source": [
    "dict1 = {\"Name\" : [\"Ahmet\", \"Mehmet\", \"Berat\", \"Şevval\"], \"Spor\" : [\"Koşu\", \"Yüzme\", \"Koşu\", \"Basketbol\"], \"Kalori\" : [100, 200,300,400]}\n",
    "dateFrame1 = pn.DataFrame(dict1, index=np.arange(0,4))"
   ]
  },
  {
   "cell_type": "code",
   "execution_count": 125,
   "id": "talented-gibson",
   "metadata": {},
   "outputs": [
    {
     "data": {
      "text/html": [
       "<div>\n",
       "<style scoped>\n",
       "    .dataframe tbody tr th:only-of-type {\n",
       "        vertical-align: middle;\n",
       "    }\n",
       "\n",
       "    .dataframe tbody tr th {\n",
       "        vertical-align: top;\n",
       "    }\n",
       "\n",
       "    .dataframe thead th {\n",
       "        text-align: right;\n",
       "    }\n",
       "</style>\n",
       "<table border=\"1\" class=\"dataframe\">\n",
       "  <thead>\n",
       "    <tr style=\"text-align: right;\">\n",
       "      <th></th>\n",
       "      <th>Name</th>\n",
       "      <th>Spor</th>\n",
       "      <th>Kalori</th>\n",
       "    </tr>\n",
       "  </thead>\n",
       "  <tbody>\n",
       "    <tr>\n",
       "      <th>0</th>\n",
       "      <td>Ahmet</td>\n",
       "      <td>Koşu</td>\n",
       "      <td>100</td>\n",
       "    </tr>\n",
       "    <tr>\n",
       "      <th>1</th>\n",
       "      <td>Mehmet</td>\n",
       "      <td>Yüzme</td>\n",
       "      <td>200</td>\n",
       "    </tr>\n",
       "    <tr>\n",
       "      <th>2</th>\n",
       "      <td>Berat</td>\n",
       "      <td>Koşu</td>\n",
       "      <td>300</td>\n",
       "    </tr>\n",
       "    <tr>\n",
       "      <th>3</th>\n",
       "      <td>Şevval</td>\n",
       "      <td>Basketbol</td>\n",
       "      <td>400</td>\n",
       "    </tr>\n",
       "  </tbody>\n",
       "</table>\n",
       "</div>"
      ],
      "text/plain": [
       "     Name       Spor  Kalori\n",
       "0   Ahmet       Koşu     100\n",
       "1  Mehmet      Yüzme     200\n",
       "2   Berat       Koşu     300\n",
       "3  Şevval  Basketbol     400"
      ]
     },
     "execution_count": 125,
     "metadata": {},
     "output_type": "execute_result"
    }
   ],
   "source": [
    "dateFrame1"
   ]
  },
  {
   "cell_type": "code",
   "execution_count": 117,
   "id": "minus-entertainment",
   "metadata": {},
   "outputs": [],
   "source": [
    "dict2 = {\"Name\" : [\"Osman\", \"Atlas\", \"Atil\", \"Ozlem\"], \"Spor\" : [\"Koşu\", \"Yüzme\", \"Koşu\", \"Basketbol\"], \"Kalori\" : [100, 200,300,400]}\n",
    "dateFrame2 = pn.DataFrame(dict2, index=np.arange(3, 7))"
   ]
  },
  {
   "cell_type": "code",
   "execution_count": 118,
   "id": "lucky-submission",
   "metadata": {},
   "outputs": [
    {
     "data": {
      "text/html": [
       "<div>\n",
       "<style scoped>\n",
       "    .dataframe tbody tr th:only-of-type {\n",
       "        vertical-align: middle;\n",
       "    }\n",
       "\n",
       "    .dataframe tbody tr th {\n",
       "        vertical-align: top;\n",
       "    }\n",
       "\n",
       "    .dataframe thead th {\n",
       "        text-align: right;\n",
       "    }\n",
       "</style>\n",
       "<table border=\"1\" class=\"dataframe\">\n",
       "  <thead>\n",
       "    <tr style=\"text-align: right;\">\n",
       "      <th></th>\n",
       "      <th>Name</th>\n",
       "      <th>Spor</th>\n",
       "      <th>Kalori</th>\n",
       "    </tr>\n",
       "  </thead>\n",
       "  <tbody>\n",
       "    <tr>\n",
       "      <th>3</th>\n",
       "      <td>Osman</td>\n",
       "      <td>Koşu</td>\n",
       "      <td>100</td>\n",
       "    </tr>\n",
       "    <tr>\n",
       "      <th>4</th>\n",
       "      <td>Atlas</td>\n",
       "      <td>Yüzme</td>\n",
       "      <td>200</td>\n",
       "    </tr>\n",
       "    <tr>\n",
       "      <th>5</th>\n",
       "      <td>Atil</td>\n",
       "      <td>Koşu</td>\n",
       "      <td>300</td>\n",
       "    </tr>\n",
       "    <tr>\n",
       "      <th>6</th>\n",
       "      <td>Ozlem</td>\n",
       "      <td>Basketbol</td>\n",
       "      <td>400</td>\n",
       "    </tr>\n",
       "  </tbody>\n",
       "</table>\n",
       "</div>"
      ],
      "text/plain": [
       "    Name       Spor  Kalori\n",
       "3  Osman       Koşu     100\n",
       "4  Atlas      Yüzme     200\n",
       "5   Atil       Koşu     300\n",
       "6  Ozlem  Basketbol     400"
      ]
     },
     "execution_count": 118,
     "metadata": {},
     "output_type": "execute_result"
    }
   ],
   "source": [
    "dateFrame2"
   ]
  },
  {
   "cell_type": "markdown",
   "id": "automated-ordering",
   "metadata": {},
   "source": [
    "## concatenation"
   ]
  },
  {
   "cell_type": "code",
   "execution_count": 128,
   "id": "indian-plymouth",
   "metadata": {},
   "outputs": [],
   "source": [
    "newDataFrame = pn.concat([dateFrame1, dateFrame2])"
   ]
  },
  {
   "cell_type": "code",
   "execution_count": 129,
   "id": "successful-candy",
   "metadata": {},
   "outputs": [
    {
     "data": {
      "text/html": [
       "<div>\n",
       "<style scoped>\n",
       "    .dataframe tbody tr th:only-of-type {\n",
       "        vertical-align: middle;\n",
       "    }\n",
       "\n",
       "    .dataframe tbody tr th {\n",
       "        vertical-align: top;\n",
       "    }\n",
       "\n",
       "    .dataframe thead th {\n",
       "        text-align: right;\n",
       "    }\n",
       "</style>\n",
       "<table border=\"1\" class=\"dataframe\">\n",
       "  <thead>\n",
       "    <tr style=\"text-align: right;\">\n",
       "      <th></th>\n",
       "      <th>Name</th>\n",
       "      <th>Spor</th>\n",
       "      <th>Kalori</th>\n",
       "    </tr>\n",
       "  </thead>\n",
       "  <tbody>\n",
       "    <tr>\n",
       "      <th>0</th>\n",
       "      <td>Ahmet</td>\n",
       "      <td>Koşu</td>\n",
       "      <td>100</td>\n",
       "    </tr>\n",
       "    <tr>\n",
       "      <th>1</th>\n",
       "      <td>Mehmet</td>\n",
       "      <td>Yüzme</td>\n",
       "      <td>200</td>\n",
       "    </tr>\n",
       "    <tr>\n",
       "      <th>2</th>\n",
       "      <td>Berat</td>\n",
       "      <td>Koşu</td>\n",
       "      <td>300</td>\n",
       "    </tr>\n",
       "    <tr>\n",
       "      <th>3</th>\n",
       "      <td>Şevval</td>\n",
       "      <td>Basketbol</td>\n",
       "      <td>400</td>\n",
       "    </tr>\n",
       "    <tr>\n",
       "      <th>3</th>\n",
       "      <td>Osman</td>\n",
       "      <td>Koşu</td>\n",
       "      <td>100</td>\n",
       "    </tr>\n",
       "    <tr>\n",
       "      <th>4</th>\n",
       "      <td>Atlas</td>\n",
       "      <td>Yüzme</td>\n",
       "      <td>200</td>\n",
       "    </tr>\n",
       "    <tr>\n",
       "      <th>5</th>\n",
       "      <td>Atil</td>\n",
       "      <td>Koşu</td>\n",
       "      <td>300</td>\n",
       "    </tr>\n",
       "    <tr>\n",
       "      <th>6</th>\n",
       "      <td>Ozlem</td>\n",
       "      <td>Basketbol</td>\n",
       "      <td>400</td>\n",
       "    </tr>\n",
       "  </tbody>\n",
       "</table>\n",
       "</div>"
      ],
      "text/plain": [
       "     Name       Spor  Kalori\n",
       "0   Ahmet       Koşu     100\n",
       "1  Mehmet      Yüzme     200\n",
       "2   Berat       Koşu     300\n",
       "3  Şevval  Basketbol     400\n",
       "3   Osman       Koşu     100\n",
       "4   Atlas      Yüzme     200\n",
       "5    Atil       Koşu     300\n",
       "6   Ozlem  Basketbol     400"
      ]
     },
     "execution_count": 129,
     "metadata": {},
     "output_type": "execute_result"
    }
   ],
   "source": [
    "newDataFrame"
   ]
  },
  {
   "cell_type": "code",
   "execution_count": 130,
   "id": "musical-three",
   "metadata": {},
   "outputs": [],
   "source": [
    "newDataFrameGroup = newDataFrame.groupby(\"Spor\")"
   ]
  },
  {
   "cell_type": "code",
   "execution_count": 133,
   "id": "mexican-rider",
   "metadata": {},
   "outputs": [
    {
     "data": {
      "text/html": [
       "<div>\n",
       "<style scoped>\n",
       "    .dataframe tbody tr th:only-of-type {\n",
       "        vertical-align: middle;\n",
       "    }\n",
       "\n",
       "    .dataframe tbody tr th {\n",
       "        vertical-align: top;\n",
       "    }\n",
       "\n",
       "    .dataframe thead th {\n",
       "        text-align: right;\n",
       "    }\n",
       "</style>\n",
       "<table border=\"1\" class=\"dataframe\">\n",
       "  <thead>\n",
       "    <tr style=\"text-align: right;\">\n",
       "      <th></th>\n",
       "      <th>Name</th>\n",
       "      <th>Kalori</th>\n",
       "    </tr>\n",
       "    <tr>\n",
       "      <th>Spor</th>\n",
       "      <th></th>\n",
       "      <th></th>\n",
       "    </tr>\n",
       "  </thead>\n",
       "  <tbody>\n",
       "    <tr>\n",
       "      <th>Basketbol</th>\n",
       "      <td>2</td>\n",
       "      <td>2</td>\n",
       "    </tr>\n",
       "    <tr>\n",
       "      <th>Koşu</th>\n",
       "      <td>4</td>\n",
       "      <td>4</td>\n",
       "    </tr>\n",
       "    <tr>\n",
       "      <th>Yüzme</th>\n",
       "      <td>2</td>\n",
       "      <td>2</td>\n",
       "    </tr>\n",
       "  </tbody>\n",
       "</table>\n",
       "</div>"
      ],
      "text/plain": [
       "           Name  Kalori\n",
       "Spor                   \n",
       "Basketbol     2       2\n",
       "Koşu          4       4\n",
       "Yüzme         2       2"
      ]
     },
     "execution_count": 133,
     "metadata": {},
     "output_type": "execute_result"
    }
   ],
   "source": [
    "newDataFrameGroup.count()"
   ]
  },
  {
   "cell_type": "markdown",
   "id": "listed-neighbor",
   "metadata": {},
   "source": [
    "## Merge"
   ]
  },
  {
   "cell_type": "code",
   "execution_count": 139,
   "id": "classified-rebate",
   "metadata": {},
   "outputs": [],
   "source": [
    "newDictionary1 = {\"Kisiler\" : [\"Mustafa\", \"Özlem\", \"Selami\", \"Şevval\"], \"Sporlar\" : [\"Koşu\", \"Yüzme\", \"Koşu\", \"Basketbol\"]}\n",
    "newDataFrame1 = pn.DataFrame(newDictionary1)"
   ]
  },
  {
   "cell_type": "code",
   "execution_count": 140,
   "id": "heavy-appliance",
   "metadata": {},
   "outputs": [],
   "source": [
    "newDictionary2 = {\"Kisiler\" : [\"Mustafa\", \"Özlem\", \"Selami\", \"Şevval\"], \"Kaloriler\" : [100, 200, 300, 700]}\n",
    "newDataFrame2 = pn.DataFrame(newDictionary2)"
   ]
  },
  {
   "cell_type": "code",
   "execution_count": 143,
   "id": "supposed-bandwidth",
   "metadata": {},
   "outputs": [
    {
     "data": {
      "text/html": [
       "<div>\n",
       "<style scoped>\n",
       "    .dataframe tbody tr th:only-of-type {\n",
       "        vertical-align: middle;\n",
       "    }\n",
       "\n",
       "    .dataframe tbody tr th {\n",
       "        vertical-align: top;\n",
       "    }\n",
       "\n",
       "    .dataframe thead th {\n",
       "        text-align: right;\n",
       "    }\n",
       "</style>\n",
       "<table border=\"1\" class=\"dataframe\">\n",
       "  <thead>\n",
       "    <tr style=\"text-align: right;\">\n",
       "      <th></th>\n",
       "      <th>Kisiler</th>\n",
       "      <th>Sporlar</th>\n",
       "      <th>Kaloriler</th>\n",
       "    </tr>\n",
       "  </thead>\n",
       "  <tbody>\n",
       "    <tr>\n",
       "      <th>0</th>\n",
       "      <td>Mustafa</td>\n",
       "      <td>Koşu</td>\n",
       "      <td>100</td>\n",
       "    </tr>\n",
       "    <tr>\n",
       "      <th>1</th>\n",
       "      <td>Özlem</td>\n",
       "      <td>Yüzme</td>\n",
       "      <td>200</td>\n",
       "    </tr>\n",
       "    <tr>\n",
       "      <th>2</th>\n",
       "      <td>Selami</td>\n",
       "      <td>Koşu</td>\n",
       "      <td>300</td>\n",
       "    </tr>\n",
       "    <tr>\n",
       "      <th>3</th>\n",
       "      <td>Şevval</td>\n",
       "      <td>Basketbol</td>\n",
       "      <td>700</td>\n",
       "    </tr>\n",
       "  </tbody>\n",
       "</table>\n",
       "</div>"
      ],
      "text/plain": [
       "   Kisiler    Sporlar  Kaloriler\n",
       "0  Mustafa       Koşu        100\n",
       "1    Özlem      Yüzme        200\n",
       "2   Selami       Koşu        300\n",
       "3   Şevval  Basketbol        700"
      ]
     },
     "execution_count": 143,
     "metadata": {},
     "output_type": "execute_result"
    }
   ],
   "source": [
    "pn.merge(newDataFrame1, newDataFrame2, on=\"Kisiler\")"
   ]
  },
  {
   "cell_type": "markdown",
   "id": "divine-ranch",
   "metadata": {},
   "source": [
    "## Pandas İleri Seviye Operasyonlar"
   ]
  },
  {
   "cell_type": "code",
   "execution_count": 145,
   "id": "minimal-brick",
   "metadata": {},
   "outputs": [
    {
     "data": {
      "text/html": [
       "<div>\n",
       "<style scoped>\n",
       "    .dataframe tbody tr th:only-of-type {\n",
       "        vertical-align: middle;\n",
       "    }\n",
       "\n",
       "    .dataframe tbody tr th {\n",
       "        vertical-align: top;\n",
       "    }\n",
       "\n",
       "    .dataframe thead th {\n",
       "        text-align: right;\n",
       "    }\n",
       "</style>\n",
       "<table border=\"1\" class=\"dataframe\">\n",
       "  <thead>\n",
       "    <tr style=\"text-align: right;\">\n",
       "      <th></th>\n",
       "      <th>Kisiler</th>\n",
       "      <th>Departmanlar</th>\n",
       "      <th>Maaşlar</th>\n",
       "    </tr>\n",
       "  </thead>\n",
       "  <tbody>\n",
       "    <tr>\n",
       "      <th>0</th>\n",
       "      <td>Mustafa Berat</td>\n",
       "      <td>Yazılım</td>\n",
       "      <td>100</td>\n",
       "    </tr>\n",
       "    <tr>\n",
       "      <th>1</th>\n",
       "      <td>Şevval Kurt</td>\n",
       "      <td>Pazarlama</td>\n",
       "      <td>200</td>\n",
       "    </tr>\n",
       "    <tr>\n",
       "      <th>2</th>\n",
       "      <td>Özlem Kurt</td>\n",
       "      <td>Hukuk</td>\n",
       "      <td>300</td>\n",
       "    </tr>\n",
       "    <tr>\n",
       "      <th>3</th>\n",
       "      <td>Selami Kurt</td>\n",
       "      <td>Yazılım</td>\n",
       "      <td>400</td>\n",
       "    </tr>\n",
       "  </tbody>\n",
       "</table>\n",
       "</div>"
      ],
      "text/plain": [
       "         Kisiler Departmanlar  Maaşlar\n",
       "0  Mustafa Berat      Yazılım      100\n",
       "1    Şevval Kurt    Pazarlama      200\n",
       "2     Özlem Kurt        Hukuk      300\n",
       "3    Selami Kurt      Yazılım      400"
      ]
     },
     "execution_count": 145,
     "metadata": {},
     "output_type": "execute_result"
    }
   ],
   "source": [
    "salaryDict = {\"Kisiler\" : [\"Mustafa Berat\", \"Şevval Kurt\", \"Özlem Kurt\", \"Selami Kurt\"], \"Departmanlar\" : [\"Yazılım\", \"Pazarlama\", \"Hukuk\", \"Yazılım\"], \"Maaşlar\": [100, 200, 300, 400]}\n",
    "salaryDataFrame = pn.DataFrame(salaryDict)\n",
    "salaryDataFrame"
   ]
  },
  {
   "cell_type": "code",
   "execution_count": 146,
   "id": "everyday-capacity",
   "metadata": {},
   "outputs": [
    {
     "data": {
      "text/plain": [
       "array(['Yazılım', 'Pazarlama', 'Hukuk'], dtype=object)"
      ]
     },
     "execution_count": 146,
     "metadata": {},
     "output_type": "execute_result"
    }
   ],
   "source": [
    "salaryDataFrame['Departmanlar'].unique()"
   ]
  },
  {
   "cell_type": "code",
   "execution_count": 159,
   "id": "seventh-evans",
   "metadata": {},
   "outputs": [
    {
     "data": {
      "text/plain": [
       "Yazılım      2\n",
       "Pazarlama    1\n",
       "Hukuk        1\n",
       "Name: Departmanlar, dtype: int64"
      ]
     },
     "execution_count": 159,
     "metadata": {},
     "output_type": "execute_result"
    }
   ],
   "source": [
    "salaryDataFrame['Departmanlar'].value_counts()"
   ]
  },
  {
   "cell_type": "code",
   "execution_count": 160,
   "id": "economic-criticism",
   "metadata": {},
   "outputs": [],
   "source": [
    "def bruttenNete(maas):\n",
    "    return maas * 1.32"
   ]
  },
  {
   "cell_type": "code",
   "execution_count": 161,
   "id": "handmade-illinois",
   "metadata": {},
   "outputs": [
    {
     "data": {
      "text/plain": [
       "0    132.0\n",
       "1    264.0\n",
       "2    396.0\n",
       "3    528.0\n",
       "Name: Maaşlar, dtype: float64"
      ]
     },
     "execution_count": 161,
     "metadata": {},
     "output_type": "execute_result"
    }
   ],
   "source": [
    "salaryDataFrame['Maaşlar'].apply(bruttenNete)"
   ]
  },
  {
   "cell_type": "code",
   "execution_count": 165,
   "id": "terminal-blond",
   "metadata": {},
   "outputs": [],
   "source": [
    "salaryDataFrame[\"Maaşlar\"] = None"
   ]
  },
  {
   "cell_type": "code",
   "execution_count": 166,
   "id": "aggressive-modem",
   "metadata": {},
   "outputs": [
    {
     "data": {
      "text/html": [
       "<div>\n",
       "<style scoped>\n",
       "    .dataframe tbody tr th:only-of-type {\n",
       "        vertical-align: middle;\n",
       "    }\n",
       "\n",
       "    .dataframe tbody tr th {\n",
       "        vertical-align: top;\n",
       "    }\n",
       "\n",
       "    .dataframe thead th {\n",
       "        text-align: right;\n",
       "    }\n",
       "</style>\n",
       "<table border=\"1\" class=\"dataframe\">\n",
       "  <thead>\n",
       "    <tr style=\"text-align: right;\">\n",
       "      <th></th>\n",
       "      <th>Kisiler</th>\n",
       "      <th>Departmanlar</th>\n",
       "      <th>Maaşlar</th>\n",
       "    </tr>\n",
       "  </thead>\n",
       "  <tbody>\n",
       "    <tr>\n",
       "      <th>0</th>\n",
       "      <td>Mustafa Berat</td>\n",
       "      <td>Yazılım</td>\n",
       "      <td>None</td>\n",
       "    </tr>\n",
       "    <tr>\n",
       "      <th>1</th>\n",
       "      <td>Şevval Kurt</td>\n",
       "      <td>Pazarlama</td>\n",
       "      <td>None</td>\n",
       "    </tr>\n",
       "    <tr>\n",
       "      <th>2</th>\n",
       "      <td>Özlem Kurt</td>\n",
       "      <td>Hukuk</td>\n",
       "      <td>None</td>\n",
       "    </tr>\n",
       "    <tr>\n",
       "      <th>3</th>\n",
       "      <td>Selami Kurt</td>\n",
       "      <td>Yazılım</td>\n",
       "      <td>None</td>\n",
       "    </tr>\n",
       "  </tbody>\n",
       "</table>\n",
       "</div>"
      ],
      "text/plain": [
       "         Kisiler Departmanlar Maaşlar\n",
       "0  Mustafa Berat      Yazılım    None\n",
       "1    Şevval Kurt    Pazarlama    None\n",
       "2     Özlem Kurt        Hukuk    None\n",
       "3    Selami Kurt      Yazılım    None"
      ]
     },
     "execution_count": 166,
     "metadata": {},
     "output_type": "execute_result"
    }
   ],
   "source": [
    "salaryDataFrame"
   ]
  },
  {
   "cell_type": "code",
   "execution_count": 169,
   "id": "asian-responsibility",
   "metadata": {},
   "outputs": [],
   "source": [
    "salaryDataFrame.fillna(\"Maaş Bulunamadı\", inplace=True)"
   ]
  },
  {
   "cell_type": "code",
   "execution_count": 170,
   "id": "dominant-being",
   "metadata": {},
   "outputs": [
    {
     "data": {
      "text/html": [
       "<div>\n",
       "<style scoped>\n",
       "    .dataframe tbody tr th:only-of-type {\n",
       "        vertical-align: middle;\n",
       "    }\n",
       "\n",
       "    .dataframe tbody tr th {\n",
       "        vertical-align: top;\n",
       "    }\n",
       "\n",
       "    .dataframe thead th {\n",
       "        text-align: right;\n",
       "    }\n",
       "</style>\n",
       "<table border=\"1\" class=\"dataframe\">\n",
       "  <thead>\n",
       "    <tr style=\"text-align: right;\">\n",
       "      <th></th>\n",
       "      <th>Kisiler</th>\n",
       "      <th>Departmanlar</th>\n",
       "      <th>Maaşlar</th>\n",
       "    </tr>\n",
       "  </thead>\n",
       "  <tbody>\n",
       "    <tr>\n",
       "      <th>0</th>\n",
       "      <td>Mustafa Berat</td>\n",
       "      <td>Yazılım</td>\n",
       "      <td>Maaş Bulunamadı</td>\n",
       "    </tr>\n",
       "    <tr>\n",
       "      <th>1</th>\n",
       "      <td>Şevval Kurt</td>\n",
       "      <td>Pazarlama</td>\n",
       "      <td>Maaş Bulunamadı</td>\n",
       "    </tr>\n",
       "    <tr>\n",
       "      <th>2</th>\n",
       "      <td>Özlem Kurt</td>\n",
       "      <td>Hukuk</td>\n",
       "      <td>Maaş Bulunamadı</td>\n",
       "    </tr>\n",
       "    <tr>\n",
       "      <th>3</th>\n",
       "      <td>Selami Kurt</td>\n",
       "      <td>Yazılım</td>\n",
       "      <td>Maaş Bulunamadı</td>\n",
       "    </tr>\n",
       "  </tbody>\n",
       "</table>\n",
       "</div>"
      ],
      "text/plain": [
       "         Kisiler Departmanlar          Maaşlar\n",
       "0  Mustafa Berat      Yazılım  Maaş Bulunamadı\n",
       "1    Şevval Kurt    Pazarlama  Maaş Bulunamadı\n",
       "2     Özlem Kurt        Hukuk  Maaş Bulunamadı\n",
       "3    Selami Kurt      Yazılım  Maaş Bulunamadı"
      ]
     },
     "execution_count": 170,
     "metadata": {},
     "output_type": "execute_result"
    }
   ],
   "source": [
    "salaryDataFrame"
   ]
  },
  {
   "cell_type": "code",
   "execution_count": 172,
   "id": "stupid-graduation",
   "metadata": {},
   "outputs": [],
   "source": [
    "salaryDataFrame['Maaşlar'][0] = 100"
   ]
  },
  {
   "cell_type": "code",
   "execution_count": 173,
   "id": "seasonal-center",
   "metadata": {},
   "outputs": [
    {
     "data": {
      "text/html": [
       "<div>\n",
       "<style scoped>\n",
       "    .dataframe tbody tr th:only-of-type {\n",
       "        vertical-align: middle;\n",
       "    }\n",
       "\n",
       "    .dataframe tbody tr th {\n",
       "        vertical-align: top;\n",
       "    }\n",
       "\n",
       "    .dataframe thead th {\n",
       "        text-align: right;\n",
       "    }\n",
       "</style>\n",
       "<table border=\"1\" class=\"dataframe\">\n",
       "  <thead>\n",
       "    <tr style=\"text-align: right;\">\n",
       "      <th></th>\n",
       "      <th>Kisiler</th>\n",
       "      <th>Departmanlar</th>\n",
       "      <th>Maaşlar</th>\n",
       "    </tr>\n",
       "  </thead>\n",
       "  <tbody>\n",
       "    <tr>\n",
       "      <th>0</th>\n",
       "      <td>Mustafa Berat</td>\n",
       "      <td>Yazılım</td>\n",
       "      <td>100</td>\n",
       "    </tr>\n",
       "    <tr>\n",
       "      <th>1</th>\n",
       "      <td>Şevval Kurt</td>\n",
       "      <td>Pazarlama</td>\n",
       "      <td>Maaş Bulunamadı</td>\n",
       "    </tr>\n",
       "    <tr>\n",
       "      <th>2</th>\n",
       "      <td>Özlem Kurt</td>\n",
       "      <td>Hukuk</td>\n",
       "      <td>Maaş Bulunamadı</td>\n",
       "    </tr>\n",
       "    <tr>\n",
       "      <th>3</th>\n",
       "      <td>Selami Kurt</td>\n",
       "      <td>Yazılım</td>\n",
       "      <td>Maaş Bulunamadı</td>\n",
       "    </tr>\n",
       "  </tbody>\n",
       "</table>\n",
       "</div>"
      ],
      "text/plain": [
       "         Kisiler Departmanlar          Maaşlar\n",
       "0  Mustafa Berat      Yazılım              100\n",
       "1    Şevval Kurt    Pazarlama  Maaş Bulunamadı\n",
       "2     Özlem Kurt        Hukuk  Maaş Bulunamadı\n",
       "3    Selami Kurt      Yazılım  Maaş Bulunamadı"
      ]
     },
     "execution_count": 173,
     "metadata": {},
     "output_type": "execute_result"
    }
   ],
   "source": [
    "salaryDataFrame"
   ]
  },
  {
   "cell_type": "code",
   "execution_count": 176,
   "id": "certain-doubt",
   "metadata": {},
   "outputs": [
    {
     "data": {
      "text/html": [
       "<div>\n",
       "<style scoped>\n",
       "    .dataframe tbody tr th:only-of-type {\n",
       "        vertical-align: middle;\n",
       "    }\n",
       "\n",
       "    .dataframe tbody tr th {\n",
       "        vertical-align: top;\n",
       "    }\n",
       "\n",
       "    .dataframe thead th {\n",
       "        text-align: right;\n",
       "    }\n",
       "</style>\n",
       "<table border=\"1\" class=\"dataframe\">\n",
       "  <thead>\n",
       "    <tr style=\"text-align: right;\">\n",
       "      <th></th>\n",
       "      <th>Kisiler</th>\n",
       "      <th>Departmanlar</th>\n",
       "      <th>Maaşlar</th>\n",
       "    </tr>\n",
       "  </thead>\n",
       "  <tbody>\n",
       "    <tr>\n",
       "      <th>0</th>\n",
       "      <td>False</td>\n",
       "      <td>False</td>\n",
       "      <td>False</td>\n",
       "    </tr>\n",
       "    <tr>\n",
       "      <th>1</th>\n",
       "      <td>False</td>\n",
       "      <td>False</td>\n",
       "      <td>False</td>\n",
       "    </tr>\n",
       "    <tr>\n",
       "      <th>2</th>\n",
       "      <td>False</td>\n",
       "      <td>False</td>\n",
       "      <td>False</td>\n",
       "    </tr>\n",
       "    <tr>\n",
       "      <th>3</th>\n",
       "      <td>False</td>\n",
       "      <td>False</td>\n",
       "      <td>False</td>\n",
       "    </tr>\n",
       "  </tbody>\n",
       "</table>\n",
       "</div>"
      ],
      "text/plain": [
       "   Kisiler  Departmanlar  Maaşlar\n",
       "0    False         False    False\n",
       "1    False         False    False\n",
       "2    False         False    False\n",
       "3    False         False    False"
      ]
     },
     "execution_count": 176,
     "metadata": {},
     "output_type": "execute_result"
    }
   ],
   "source": [
    "salaryDataFrame.isna()"
   ]
  },
  {
   "cell_type": "code",
   "execution_count": null,
   "id": "preceding-august",
   "metadata": {},
   "outputs": [],
   "source": []
  }
 ],
 "metadata": {
  "kernelspec": {
   "display_name": "Python 3",
   "language": "python",
   "name": "python3"
  },
  "language_info": {
   "codemirror_mode": {
    "name": "ipython",
    "version": 3
   },
   "file_extension": ".py",
   "mimetype": "text/x-python",
   "name": "python",
   "nbconvert_exporter": "python",
   "pygments_lexer": "ipython3",
   "version": "3.7.9"
  }
 },
 "nbformat": 4,
 "nbformat_minor": 5
}
