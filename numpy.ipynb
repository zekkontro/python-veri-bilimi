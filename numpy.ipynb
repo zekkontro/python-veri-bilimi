{
 "cells": [
  {
   "cell_type": "code",
   "execution_count": 1,
   "id": "ancient-approval",
   "metadata": {},
   "outputs": [],
   "source": [
    "import numpy as np"
   ]
  },
  {
   "cell_type": "code",
   "execution_count": 6,
   "id": "arabic-genetics",
   "metadata": {},
   "outputs": [
    {
     "data": {
      "text/plain": [
       "array([ 0,  5, 10, 15, 20, 25, 30, 35, 40, 45, 50, 55, 60, 65, 70, 75, 80,\n",
       "       85, 90, 95])"
      ]
     },
     "execution_count": 6,
     "metadata": {},
     "output_type": "execute_result"
    }
   ],
   "source": [
    "np.arange(0, 100, 5)"
   ]
  },
  {
   "cell_type": "code",
   "execution_count": 7,
   "id": "fitted-superintendent",
   "metadata": {},
   "outputs": [
    {
     "data": {
      "text/plain": [
       "array([[1., 0., 0., 0., 0., 0., 0., 0., 0., 0.],\n",
       "       [0., 1., 0., 0., 0., 0., 0., 0., 0., 0.],\n",
       "       [0., 0., 1., 0., 0., 0., 0., 0., 0., 0.],\n",
       "       [0., 0., 0., 1., 0., 0., 0., 0., 0., 0.],\n",
       "       [0., 0., 0., 0., 1., 0., 0., 0., 0., 0.],\n",
       "       [0., 0., 0., 0., 0., 1., 0., 0., 0., 0.],\n",
       "       [0., 0., 0., 0., 0., 0., 1., 0., 0., 0.],\n",
       "       [0., 0., 0., 0., 0., 0., 0., 1., 0., 0.],\n",
       "       [0., 0., 0., 0., 0., 0., 0., 0., 1., 0.],\n",
       "       [0., 0., 0., 0., 0., 0., 0., 0., 0., 1.]])"
      ]
     },
     "execution_count": 7,
     "metadata": {},
     "output_type": "execute_result"
    }
   ],
   "source": [
    "np.eye(10)"
   ]
  },
  {
   "cell_type": "code",
   "execution_count": 10,
   "id": "effective-bouquet",
   "metadata": {},
   "outputs": [
    {
     "data": {
      "text/plain": [
       "[-0.5871592045138736,\n",
       " -0.39560507040412074,\n",
       " 0.6659582192595866,\n",
       " -0.38062516628595816,\n",
       " -0.973589026000045,\n",
       " -1.0715048143824453,\n",
       " -0.08139523977058548,\n",
       " 0.7825645472587244]"
      ]
     },
     "execution_count": 10,
     "metadata": {},
     "output_type": "execute_result"
    }
   ],
   "source": [
    "np.random.randn(8).tolist()"
   ]
  },
  {
   "cell_type": "code",
   "execution_count": 14,
   "id": "pleasant-belize",
   "metadata": {},
   "outputs": [
    {
     "name": "stdout",
     "output_type": "stream",
     "text": [
      "Tamamlandi\n"
     ]
    }
   ],
   "source": [
    "print(\"Tamamlandi\")"
   ]
  },
  {
   "cell_type": "code",
   "execution_count": 19,
   "id": "italian-information",
   "metadata": {},
   "outputs": [
    {
     "data": {
      "text/plain": [
       "64"
      ]
     },
     "execution_count": 19,
     "metadata": {},
     "output_type": "execute_result"
    }
   ],
   "source": [
    "np.random.randint(5, 100)"
   ]
  },
  {
   "cell_type": "code",
   "execution_count": 20,
   "id": "traditional-great",
   "metadata": {},
   "outputs": [
    {
     "data": {
      "text/plain": [
       "array([585, 575, 699, 116, 366, 263, 880, 927, 916, 151])"
      ]
     },
     "execution_count": 20,
     "metadata": {},
     "output_type": "execute_result"
    }
   ],
   "source": [
    "np.random.randint(1, 1000, 10)"
   ]
  },
  {
   "cell_type": "code",
   "execution_count": 25,
   "id": "ordinary-blowing",
   "metadata": {},
   "outputs": [],
   "source": [
    "myRandomArray = np.random.randint(0,500,30)"
   ]
  },
  {
   "cell_type": "code",
   "execution_count": 26,
   "id": "social-kazakhstan",
   "metadata": {},
   "outputs": [
    {
     "data": {
      "text/plain": [
       "array([[495, 141, 154, 469, 344, 437],\n",
       "       [324, 169, 483, 292, 434,  11],\n",
       "       [ 29, 309,   5,  65, 204, 258],\n",
       "       [271, 152, 267, 494, 343, 333],\n",
       "       [370, 235, 416, 185, 346, 133]])"
      ]
     },
     "execution_count": 26,
     "metadata": {},
     "output_type": "execute_result"
    }
   ],
   "source": [
    "myRandomArray.reshape(5, 6)"
   ]
  },
  {
   "cell_type": "code",
   "execution_count": 28,
   "id": "cross-europe",
   "metadata": {},
   "outputs": [
    {
     "data": {
      "text/plain": [
       "495"
      ]
     },
     "execution_count": 28,
     "metadata": {},
     "output_type": "execute_result"
    }
   ],
   "source": [
    "myRandomArray.max()"
   ]
  },
  {
   "cell_type": "code",
   "execution_count": 30,
   "id": "graphic-thread",
   "metadata": {},
   "outputs": [
    {
     "data": {
      "text/plain": [
       "0"
      ]
     },
     "execution_count": 30,
     "metadata": {},
     "output_type": "execute_result"
    }
   ],
   "source": [
    "myRandomArray.argmax()"
   ]
  },
  {
   "cell_type": "code",
   "execution_count": 31,
   "id": "environmental-architect",
   "metadata": {},
   "outputs": [
    {
     "data": {
      "text/plain": [
       "14"
      ]
     },
     "execution_count": 31,
     "metadata": {},
     "output_type": "execute_result"
    }
   ],
   "source": [
    "myRandomArray.argmin()"
   ]
  },
  {
   "cell_type": "code",
   "execution_count": null,
   "id": "sound-hometown",
   "metadata": {},
   "outputs": [],
   "source": []
  }
 ],
 "metadata": {
  "kernelspec": {
   "display_name": "Python 3",
   "language": "python",
   "name": "python3"
  },
  "language_info": {
   "codemirror_mode": {
    "name": "ipython",
    "version": 3
   },
   "file_extension": ".py",
   "mimetype": "text/x-python",
   "name": "python",
   "nbconvert_exporter": "python",
   "pygments_lexer": "ipython3",
   "version": "3.7.9"
  }
 },
 "nbformat": 4,
 "nbformat_minor": 5
}
